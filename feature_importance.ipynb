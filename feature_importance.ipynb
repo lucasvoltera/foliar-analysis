{
 "cells": [
  {
   "cell_type": "code",
   "execution_count": 1,
   "metadata": {},
   "outputs": [],
   "source": [
    "import pandas as pd\n",
    "import numpy as np\n",
    "import seaborn as sns\n",
    "import matplotlib.pyplot as plt\n",
    "import plotly\n",
    "import plotly.graph_objs as go\n",
    "import plotly.express as px\n",
    "from plotly.subplots import make_subplots\n",
    "from sklearn.preprocessing import StandardScaler\n",
    "from sklearn.feature_selection import SelectKBest, f_regression\n",
    "from sklearn.linear_model import LinearRegression\n",
    "from sklearn.ensemble import RandomForestRegressor\n",
    "\n",
    "# Função para dividir os dados em features (X) e target (y)\n",
    "def split_data(df, target_column):\n",
    "    \"\"\"\n",
    "    Split the DataFrame into features (X) and target (y).\n",
    "\n",
    "    Parameters:\n",
    "    - df (DataFrame): The input DataFrame.\n",
    "    - target_column (str): The name of the target column.\n",
    "\n",
    "    Returns:\n",
    "    - X (DataFrame): Features (all columns except the target column).\n",
    "    - y (Series): Target column.\n",
    "    \"\"\"\n",
    "    # Verificar se a coluna alvo está presente no DataFrame\n",
    "    if target_column not in df.columns:\n",
    "        raise ValueError(f\"A coluna alvo '{target_column}' não está presente no DataFrame.\")\n",
    "    \n",
    "    # Separar X e y\n",
    "    X = df.drop(target_column, axis=1)  # X são todas as colunas exceto a coluna alvo\n",
    "    y = df[target_column]  # y é a coluna alvo\n",
    "    \n",
    "    return X, y\n",
    "\n",
    "# Função para remover as colunas 'latitude' e 'longitude' de um DataFrame\n",
    "def drop_lat_lon(df):\n",
    "    \"\"\"\n",
    "    Remove 'latitude' and 'longitude' columns from the DataFrame.\n",
    "\n",
    "    Parameters:\n",
    "    - df (DataFrame): The input DataFrame.\n",
    "\n",
    "    Returns:\n",
    "    - new_df (DataFrame): DataFrame with 'latitude' and 'longitude' columns removed.\n",
    "    \"\"\"\n",
    "    new_df = df.drop(['latitude', 'longitude'], axis=1)\n",
    "    return new_df\n",
    "\n",
    "# Função para obter as colunas do DataFrame que correspondem a um padrão regex\n",
    "def get_bands(df, regex):\n",
    "    \"\"\"\n",
    "    Get columns from the DataFrame that match the specified regex pattern.\n",
    "\n",
    "    Parameters:\n",
    "    - df (DataFrame): The input DataFrame.\n",
    "    - regex (str): Regular expression pattern.\n",
    "\n",
    "    Returns:\n",
    "    - new_df (DataFrame): DataFrame with columns matching the regex pattern.\n",
    "    \"\"\"\n",
    "    new_df = df.filter(regex=regex)\n",
    "    return new_df\n",
    "\n",
    "# Função para obter as colunas de nutrientes de um DataFrame, excluindo as colunas de bandas\n",
    "def get_nutrients(df, bands):\n",
    "    \"\"\"\n",
    "    Get nutrient columns from the DataFrame, excluding the specified band columns.\n",
    "\n",
    "    Parameters:\n",
    "    - df (DataFrame): The input DataFrame.\n",
    "    - bands (DataFrame): DataFrame with band columns.\n",
    "\n",
    "    Returns:\n",
    "    - new_df (DataFrame): DataFrame with nutrient columns.\n",
    "    \"\"\"\n",
    "    new_df = df.drop(bands.columns, axis=1)\n",
    "    return new_df\n",
    "\n",
    "\n",
    "\n",
    "def calculate_select_k_best(X, y, k=10):\n",
    "    \"\"\"\n",
    "    Calculate feature importance using SelectKBest.\n",
    "\n",
    "    Parameters:\n",
    "    - X (DataFrame): Features.\n",
    "    - y (Series): Target variable.\n",
    "    - k (int): Number of top features to select.\n",
    "\n",
    "    Returns:\n",
    "    - feature_importance (array): Array containing the feature scores.\n",
    "    \"\"\"\n",
    "    selector = SelectKBest(score_func=f_regression, k=k)\n",
    "    selector.fit(X, y)\n",
    "    feature_importance = selector.scores_\n",
    "    return feature_importance\n",
    "\n",
    "# Função para calcular a importância das features usando Regressão Linear\n",
    "def calculate_linear_regression(X, y):\n",
    "    \"\"\"\n",
    "    Calculate feature importance using Linear Regression.\n",
    "\n",
    "    Parameters:\n",
    "    - X (DataFrame): Features.\n",
    "    - y (Series): Target variable.\n",
    "\n",
    "    Returns:\n",
    "    - feature_importance (array): Array containing the absolute coefficients of the linear model.\n",
    "    \"\"\"\n",
    "    model = LinearRegression()\n",
    "    model.fit(X, y)\n",
    "    feature_importance = np.abs(model.coef_)\n",
    "    return feature_importance\n",
    "\n",
    "# Função para calcular a importância das features usando Random Forest\n",
    "def calculate_random_forest(X, y):\n",
    "    \"\"\"\n",
    "    Calculate feature importance using Random Forest.\n",
    "\n",
    "    Parameters:\n",
    "    - X (DataFrame): Features.\n",
    "    - y (Series): Target variable.\n",
    "\n",
    "    Returns:\n",
    "    - feature_importance (array): Array containing the feature importances from the Random Forest model.\n",
    "    \"\"\"\n",
    "    model = RandomForestRegressor()\n",
    "    model.fit(X, y)\n",
    "    feature_importance = model.feature_importances_\n",
    "    return feature_importance\n",
    "\n",
    "# Função para criar um DataFrame com a importância das features\n",
    "def create_importance_df(feature_importance, feature_names, method):\n",
    "    \"\"\"\n",
    "    Create a DataFrame containing the feature importance scores.\n",
    "\n",
    "    Parameters:\n",
    "    - feature_importance (array): Array containing the feature importance scores.\n",
    "    - feature_names (Index or list): Names of the features.\n",
    "    - method (str): Name of the method used for feature importance calculation.\n",
    "\n",
    "    Returns:\n",
    "    - importance_df (DataFrame): DataFrame with feature importance scores for the specified method.\n",
    "    \"\"\"\n",
    "    importance_df = pd.DataFrame({feature_names[i]: [feature_importance[i]] for i in range(len(feature_names))})\n",
    "    importance_df.index = [method]\n",
    "    return importance_df\n",
    "\n",
    "# Função para calcular a importância das features usando diferentes métodos\n",
    "def calculate_feature_importance(X, y, methods=['select_k_best', 'linear_regression', 'random_forest'], k=10, scaler=False):\n",
    "    \"\"\"\n",
    "    Calculate feature importance using multiple methods and consolidate the results.\n",
    "\n",
    "    Parameters:\n",
    "    - X (DataFrame): Features.\n",
    "    - y (Series): Target variable.\n",
    "    - methods (list): List of methods to use for feature importance calculation.\n",
    "    - k (int): Number of top features to select in the case of SelectKBest.\n",
    "    - scaler (bool): Whether to normalize the data using StandardScaler.\n",
    "\n",
    "    Returns:\n",
    "    - consolidated_df (DataFrame): DataFrame containing the consolidated feature importance scores.\n",
    "    \"\"\"\n",
    "    results = {}\n",
    "\n",
    "    # Normalize os dados com o StandardScaler, se necessário\n",
    "    if scaler:\n",
    "        scaler = StandardScaler()\n",
    "        X = scaler.fit_transform(X)\n",
    "\n",
    "    # Calculando a importância para cada método\n",
    "    for method in methods:\n",
    "        if method == 'select_k_best':\n",
    "            feature_importance = calculate_select_k_best(X, y, k)\n",
    "        elif method == 'linear_regression':\n",
    "            feature_importance = calculate_linear_regression(X, y)\n",
    "        elif method == 'random_forest':\n",
    "            feature_importance = calculate_random_forest(X, y)\n",
    "        else:\n",
    "            raise ValueError(\"Método não suportado. Escolha entre 'select_k_best', 'linear_regression' ou 'random_forest'.\")\n",
    "\n",
    "        # Criando DataFrame com a importância das features\n",
    "        feature_names = X.columns\n",
    "        importance_df = create_importance_df(feature_importance, feature_names, method)\n",
    "\n",
    "        # Adicionando ao dicionário de resultados\n",
    "        results[method] = importance_df\n",
    "\n",
    "    # Concatenando DataFrames de diferentes métodos\n",
    "    consolidated_df = pd.concat(list(results.values()), axis=0)\n",
    "\n",
    "    return consolidated_df.T\n",
    "\n",
    "def process_multiple_targets(X_df, y_df, methods=['select_k_best', 'linear_regression', 'random_forest'], k=10):\n",
    "    \"\"\"\n",
    "    Process multiple targets and calculate feature importance for each target.\n",
    "\n",
    "    Parameters:\n",
    "    - X_df (DataFrame): Features DataFrame.\n",
    "    - y_df (DataFrame): Target DataFrame with multiple columns.\n",
    "    - methods (list): List of methods to use for feature importance calculation.\n",
    "    - k (int): Number of top features to select in the case of SelectKBest.\n",
    "\n",
    "    Returns:\n",
    "    - consolidated_df (DataFrame): DataFrame containing consolidated feature importance scores for each target.\n",
    "    \"\"\"\n",
    "    results_dict = {}\n",
    "\n",
    "    # Iterando sobre cada coluna alvo (Y) no DataFrame y_df\n",
    "    for y_column in y_df.columns:\n",
    "        # Fazendo o split para cada coluna Y\n",
    "        X = X_df\n",
    "        y = y_df[y_column]\n",
    "\n",
    "        # Calculando a importância das features para a coluna Y\n",
    "        feature_importance_df = calculate_feature_importance(X, y, methods, k)\n",
    "\n",
    "        # Adicionando resultados ao dicionário, usando a coluna Y como chave\n",
    "        results_dict[y_column] = feature_importance_df\n",
    "\n",
    "    # Criando DataFrame consolidado com os resultados, usando as colunas Y como níveis de coluna\n",
    "    consolidated_df = pd.concat(list(results_dict.values()), keys=results_dict.keys(), axis=1)\n",
    "\n",
    "    return consolidated_df\n",
    "\n",
    "# Função para plotar gráficos de importância de features usando Plotly\n",
    "def feature_importance_plot(df, title=\"Feature Importance\"):\n",
    "    \"\"\"\n",
    "    Plot feature importance using Plotly.\n",
    "\n",
    "    Parameters:\n",
    "    - df (DataFrame): DataFrame containing feature importance scores.\n",
    "    - title (str): Title for the plot.\n",
    "\n",
    "    Returns:\n",
    "    - None (displays the plot).\n",
    "    \"\"\"\n",
    "    num_columns = len(df.columns.levels[0])\n",
    "    num_methods = len(df.columns.levels[1])  # Número de métodos (sub-colunas)\n",
    "    num_rows = num_columns  # Número total de linhas\n",
    "\n",
    "    # Criar figura com subplots e escalas de eixos y independentes\n",
    "    fig = make_subplots(rows=num_rows, cols=num_methods, subplot_titles=[\n",
    "        f\"{col_level0} - {col_level1}\" for col_level0 in df.columns.levels[0] for col_level1 in df.columns.levels[1]\n",
    "    ])\n",
    "\n",
    "    for i, col_level0 in enumerate(df.columns.levels[0]):\n",
    "        for j, col_level1 in enumerate(df.columns.levels[1]):\n",
    "            idx = i + 1\n",
    "\n",
    "            # Criar bar plot usando plotly.graph_objects\n",
    "            bar_plot = go.Bar(x=df.index, y=df[col_level0, col_level1], showlegend=False)\n",
    "\n",
    "            # Adicionar bar plot ao subplot correspondente\n",
    "            fig.add_trace(bar_plot, row=idx, col=j + 1)\n",
    "\n",
    "            # Atualizar título do subplot\n",
    "            title_text = f'{col_level0} - {col_level1}' if j == 0 else ''  # Apenas na primeira coluna\n",
    "            fig.update_xaxes(title_text=title_text, row=idx, col=j + 1)\n",
    "\n",
    "    # Atualizar layout\n",
    "    fig.update_layout(height=400 * num_rows, title_text=title)\n",
    "\n",
    "    # Mostrar a figura\n",
    "    fig.show()\n",
    "\n"
   ]
  },
  {
   "cell_type": "markdown",
   "metadata": {},
   "source": [
    "# Talhão 1"
   ]
  },
  {
   "cell_type": "code",
   "execution_count": 2,
   "metadata": {},
   "outputs": [
    {
     "data": {
      "application/vnd.plotly.v1+json": {
       "config": {
        "plotlyServerURL": "https://plot.ly"
       },
       "data": [
        {
         "showlegend": false,
         "type": "bar",
         "x": [
          "B01.tiff",
          "B02.tiff",
          "B03.tiff",
          "B04.tiff",
          "B05.tiff",
          "B06.tiff",
          "B07.tiff",
          "B08.tiff",
          "B09.tiff",
          "B10.tiff",
          "B11.tiff",
          "B12.tiff",
          "B8A.tiff"
         ],
         "xaxis": "x",
         "y": [
          6052.731240505458,
          4189.197764607274,
          4075.945915569023,
          2970.7364519470866,
          3956.9062061069644,
          911.0404765320105,
          1070.869517380747,
          838.394824170122,
          793.7998326472463,
          3.8808208962123856,
          6575.687658638371,
          5805.774763314547,
          943.2522784762784
         ],
         "yaxis": "y"
        },
        {
         "showlegend": false,
         "type": "bar",
         "x": [
          "B01.tiff",
          "B02.tiff",
          "B03.tiff",
          "B04.tiff",
          "B05.tiff",
          "B06.tiff",
          "B07.tiff",
          "B08.tiff",
          "B09.tiff",
          "B10.tiff",
          "B11.tiff",
          "B12.tiff",
          "B8A.tiff"
         ],
         "xaxis": "x2",
         "y": [
          687.1915969138649,
          26.50238190651611,
          194.96392874868314,
          94.97297121314598,
          75.49433624956232,
          122.52166913651588,
          68.93743982401224,
          17.596118559222447,
          62.722727523262016,
          4068.009422886503,
          62.75382340961771,
          76.27946577305688,
          47.39277946943602
         ],
         "yaxis": "y2"
        },
        {
         "showlegend": false,
         "type": "bar",
         "x": [
          "B01.tiff",
          "B02.tiff",
          "B03.tiff",
          "B04.tiff",
          "B05.tiff",
          "B06.tiff",
          "B07.tiff",
          "B08.tiff",
          "B09.tiff",
          "B10.tiff",
          "B11.tiff",
          "B12.tiff",
          "B8A.tiff"
         ],
         "xaxis": "x3",
         "y": [
          2457.4357772277267,
          2159.6728420338745,
          2939.1372649722507,
          1139.8587080907223,
          1925.4628826227408,
          139.63031831543978,
          217.8792470509911,
          141.16347863600646,
          12.629353598364172,
          115.56264317997261,
          5646.170406251762,
          2768.4031886895505,
          163.64500593715007
         ],
         "yaxis": "y3"
        },
        {
         "showlegend": false,
         "type": "bar",
         "x": [
          "B01.tiff",
          "B02.tiff",
          "B03.tiff",
          "B04.tiff",
          "B05.tiff",
          "B06.tiff",
          "B07.tiff",
          "B08.tiff",
          "B09.tiff",
          "B10.tiff",
          "B11.tiff",
          "B12.tiff",
          "B8A.tiff"
         ],
         "xaxis": "x4",
         "y": [
          57.062517984316166,
          3.19562377735064,
          20.91513147979246,
          9.631157703648158,
          0.3687004479005802,
          2.589248534851362,
          0.5414841883953048,
          1.4209296925921775,
          63.16432247517074,
          64.59877721636029,
          1.3434586714058736,
          4.767345099278835,
          0.030694972616315708
         ],
         "yaxis": "y4"
        },
        {
         "showlegend": false,
         "type": "bar",
         "x": [
          "B01.tiff",
          "B02.tiff",
          "B03.tiff",
          "B04.tiff",
          "B05.tiff",
          "B06.tiff",
          "B07.tiff",
          "B08.tiff",
          "B09.tiff",
          "B10.tiff",
          "B11.tiff",
          "B12.tiff",
          "B8A.tiff"
         ],
         "xaxis": "x5",
         "y": [
          2455.409746091378,
          2305.9964618553518,
          3252.1933053814723,
          1148.308526147405,
          2001.2808784572944,
          56.432768232704724,
          114.95479947464791,
          66.95968483234758,
          85.08967530589568,
          88.48734799545313,
          6757.980312842204,
          2817.3841090670967,
          76.58490227512907
         ],
         "yaxis": "y5"
        },
        {
         "showlegend": false,
         "type": "bar",
         "x": [
          "B01.tiff",
          "B02.tiff",
          "B03.tiff",
          "B04.tiff",
          "B05.tiff",
          "B06.tiff",
          "B07.tiff",
          "B08.tiff",
          "B09.tiff",
          "B10.tiff",
          "B11.tiff",
          "B12.tiff",
          "B8A.tiff"
         ],
         "xaxis": "x6",
         "y": [
          556.5678047358261,
          51.15560375950365,
          128.0906440147042,
          65.64041405099981,
          2.214212362652318,
          22.947410297961788,
          5.639532324941801,
          7.518994382720901,
          614.3009703960162,
          849.3231384916912,
          13.839751254627057,
          36.65607659994032,
          0.45688421493492726
         ],
         "yaxis": "y6"
        },
        {
         "showlegend": false,
         "type": "bar",
         "x": [
          "B01.tiff",
          "B02.tiff",
          "B03.tiff",
          "B04.tiff",
          "B05.tiff",
          "B06.tiff",
          "B07.tiff",
          "B08.tiff",
          "B09.tiff",
          "B10.tiff",
          "B11.tiff",
          "B12.tiff",
          "B8A.tiff"
         ],
         "xaxis": "x7",
         "y": [
          5614.45855587297,
          3941.6044558138346,
          3928.772952188481,
          2535.0175472051424,
          3535.179034584841,
          1114.0876457127154,
          1303.1403525663084,
          978.3123072327597,
          666.7401900224198,
          89.6681989865418,
          6627.969809442606,
          5240.4029062200225,
          1125.804782441157
         ],
         "yaxis": "y7"
        },
        {
         "showlegend": false,
         "type": "bar",
         "x": [
          "B01.tiff",
          "B02.tiff",
          "B03.tiff",
          "B04.tiff",
          "B05.tiff",
          "B06.tiff",
          "B07.tiff",
          "B08.tiff",
          "B09.tiff",
          "B10.tiff",
          "B11.tiff",
          "B12.tiff",
          "B8A.tiff"
         ],
         "xaxis": "x8",
         "y": [
          109.32423090953098,
          2.8793318435810695,
          13.391585079041372,
          5.031764539563561,
          0.624932592024527,
          5.229713398469925,
          1.6451908345904158,
          0.5579872150548753,
          24.807369705622694,
          282.59305185702726,
          17.461470308890757,
          6.247466683038245,
          0.7230017225369685
         ],
         "yaxis": "y8"
        },
        {
         "showlegend": false,
         "type": "bar",
         "x": [
          "B01.tiff",
          "B02.tiff",
          "B03.tiff",
          "B04.tiff",
          "B05.tiff",
          "B06.tiff",
          "B07.tiff",
          "B08.tiff",
          "B09.tiff",
          "B10.tiff",
          "B11.tiff",
          "B12.tiff",
          "B8A.tiff"
         ],
         "xaxis": "x9",
         "y": [
          267.9810955915497,
          197.1770208957861,
          103.68929821047752,
          139.7600457294184,
          109.51332426155687,
          640.5532249545806,
          631.7098066541091,
          515.5608175219728,
          585.3503948725245,
          14.292179887369445,
          218.18807881144332,
          251.71811820358303,
          565.859273403636
         ],
         "yaxis": "y9"
        },
        {
         "showlegend": false,
         "type": "bar",
         "x": [
          "B01.tiff",
          "B02.tiff",
          "B03.tiff",
          "B04.tiff",
          "B05.tiff",
          "B06.tiff",
          "B07.tiff",
          "B08.tiff",
          "B09.tiff",
          "B10.tiff",
          "B11.tiff",
          "B12.tiff",
          "B8A.tiff"
         ],
         "xaxis": "x10",
         "y": [
          4.393045790206664,
          1.7437387306512113,
          3.969729671401122,
          1.40190519133733,
          0.02980985860287247,
          1.9064832454364715,
          1.147832277055912,
          0.39063002205696806,
          6.967780720205176,
          30.479636474236866,
          3.1513782706808855,
          2.611361259184812,
          1.0477066450730355
         ],
         "yaxis": "y10"
        },
        {
         "showlegend": false,
         "type": "bar",
         "x": [
          "B01.tiff",
          "B02.tiff",
          "B03.tiff",
          "B04.tiff",
          "B05.tiff",
          "B06.tiff",
          "B07.tiff",
          "B08.tiff",
          "B09.tiff",
          "B10.tiff",
          "B11.tiff",
          "B12.tiff",
          "B8A.tiff"
         ],
         "xaxis": "x11",
         "y": [
          200.6533759067508,
          368.0905097173293,
          649.5549705290273,
          146.54534058724653,
          298.7020282748791,
          52.49724939963169,
          24.181383089560068,
          27.456696213351265,
          349.39088436355325,
          2.8763795603153186,
          1831.7245726811,
          520.356724862289,
          36.84032739852671
         ],
         "yaxis": "y11"
        },
        {
         "showlegend": false,
         "type": "bar",
         "x": [
          "B01.tiff",
          "B02.tiff",
          "B03.tiff",
          "B04.tiff",
          "B05.tiff",
          "B06.tiff",
          "B07.tiff",
          "B08.tiff",
          "B09.tiff",
          "B10.tiff",
          "B11.tiff",
          "B12.tiff",
          "B8A.tiff"
         ],
         "xaxis": "x12",
         "y": [
          7.333902515722766,
          0.4896170655543486,
          3.847617954309003,
          2.720152842637233,
          4.347793705337135,
          2.1166506833037677,
          0.8532635851296403,
          0.6037907987095084,
          32.87876960990918,
          138.5289339256288,
          0.586450443900432,
          8.49486512070436,
          0.07102754348998394
         ],
         "yaxis": "y12"
        },
        {
         "showlegend": false,
         "type": "bar",
         "x": [
          "B01.tiff",
          "B02.tiff",
          "B03.tiff",
          "B04.tiff",
          "B05.tiff",
          "B06.tiff",
          "B07.tiff",
          "B08.tiff",
          "B09.tiff",
          "B10.tiff",
          "B11.tiff",
          "B12.tiff",
          "B8A.tiff"
         ],
         "xaxis": "x13",
         "y": [
          233.87596752382566,
          236.80155348943418,
          312.19908065019774,
          79.02902730732256,
          162.0327024210931,
          34.71752332860814,
          47.20481773872114,
          31.879622464884516,
          19.479614961544687,
          502.0529408041411,
          353.02705412670224,
          151.93527959452942,
          31.37011537300908
         ],
         "yaxis": "y13"
        },
        {
         "showlegend": false,
         "type": "bar",
         "x": [
          "B01.tiff",
          "B02.tiff",
          "B03.tiff",
          "B04.tiff",
          "B05.tiff",
          "B06.tiff",
          "B07.tiff",
          "B08.tiff",
          "B09.tiff",
          "B10.tiff",
          "B11.tiff",
          "B12.tiff",
          "B8A.tiff"
         ],
         "xaxis": "x14",
         "y": [
          156.30430118059925,
          42.41019579857438,
          148.10742773512337,
          67.43140425954714,
          60.83747896340854,
          25.495882230761787,
          21.64723778473635,
          16.941567359382482,
          41.78255435141669,
          2933.466432843239,
          37.780830273052416,
          73.76382326917482,
          4.790319996050435
         ],
         "yaxis": "y14"
        },
        {
         "showlegend": false,
         "type": "bar",
         "x": [
          "B01.tiff",
          "B02.tiff",
          "B03.tiff",
          "B04.tiff",
          "B05.tiff",
          "B06.tiff",
          "B07.tiff",
          "B08.tiff",
          "B09.tiff",
          "B10.tiff",
          "B11.tiff",
          "B12.tiff",
          "B8A.tiff"
         ],
         "xaxis": "x15",
         "y": [
          365.46121975413865,
          524.6910395764327,
          687.1213709961921,
          213.6997977001117,
          344.1459710324362,
          51.42027307941768,
          67.35126290352773,
          47.9219539395548,
          0.2985820294338836,
          1.2936559840311639,
          851.090244365862,
          412.0058583983704,
          47.283401248350216
         ],
         "yaxis": "y15"
        },
        {
         "showlegend": false,
         "type": "bar",
         "x": [
          "B01.tiff",
          "B02.tiff",
          "B03.tiff",
          "B04.tiff",
          "B05.tiff",
          "B06.tiff",
          "B07.tiff",
          "B08.tiff",
          "B09.tiff",
          "B10.tiff",
          "B11.tiff",
          "B12.tiff",
          "B8A.tiff"
         ],
         "xaxis": "x16",
         "y": [
          38.04916519465771,
          39.26783340157212,
          88.85201386052312,
          43.61036033173254,
          20.138434464972406,
          9.685991276805673,
          4.099206007125183,
          9.491246336078245,
          60.27732849646784,
          335.0498594064395,
          4.859465857035328,
          9.983815348482905,
          0.47628694581798925
         ],
         "yaxis": "y16"
        },
        {
         "showlegend": false,
         "type": "bar",
         "x": [
          "B01.tiff",
          "B02.tiff",
          "B03.tiff",
          "B04.tiff",
          "B05.tiff",
          "B06.tiff",
          "B07.tiff",
          "B08.tiff",
          "B09.tiff",
          "B10.tiff",
          "B11.tiff",
          "B12.tiff",
          "B8A.tiff"
         ],
         "xaxis": "x17",
         "y": [
          501.231594376849,
          466.9991037597979,
          343.8979787673955,
          414.0753992980991,
          392.8842969694319,
          411.5476876659315,
          406.1678610348399,
          335.8078659186288,
          256.0852140061223,
          42.00250603458357,
          285.14875605305804,
          547.8135310559067,
          379.38710891327065
         ],
         "yaxis": "y17"
        },
        {
         "showlegend": false,
         "type": "bar",
         "x": [
          "B01.tiff",
          "B02.tiff",
          "B03.tiff",
          "B04.tiff",
          "B05.tiff",
          "B06.tiff",
          "B07.tiff",
          "B08.tiff",
          "B09.tiff",
          "B10.tiff",
          "B11.tiff",
          "B12.tiff",
          "B8A.tiff"
         ],
         "xaxis": "x18",
         "y": [
          86.34906861536014,
          230.11266592331776,
          37.129188989090856,
          51.165575711296725,
          115.33255517799338,
          289.3758072579644,
          98.19987079777763,
          11.810896112676076,
          173.45555981412642,
          140.2744164617724,
          91.25886620929487,
          185.46025534168623,
          89.06492337862157
         ],
         "yaxis": "y18"
        },
        {
         "showlegend": false,
         "type": "bar",
         "x": [
          "B01.tiff",
          "B02.tiff",
          "B03.tiff",
          "B04.tiff",
          "B05.tiff",
          "B06.tiff",
          "B07.tiff",
          "B08.tiff",
          "B09.tiff",
          "B10.tiff",
          "B11.tiff",
          "B12.tiff",
          "B8A.tiff"
         ],
         "xaxis": "x19",
         "y": [
          117.06462476536296,
          196.49753957923582,
          384.8634272928098,
          47.483978787891175,
          145.06438078125836,
          5.6972500619758835,
          1.2752887050715918,
          3.585439843299388,
          135.52868970961745,
          176.59719822382723,
          465.7509064365974,
          138.71972900775881,
          4.333380269364098
         ],
         "yaxis": "y19"
        },
        {
         "showlegend": false,
         "type": "bar",
         "x": [
          "B01.tiff",
          "B02.tiff",
          "B03.tiff",
          "B04.tiff",
          "B05.tiff",
          "B06.tiff",
          "B07.tiff",
          "B08.tiff",
          "B09.tiff",
          "B10.tiff",
          "B11.tiff",
          "B12.tiff",
          "B8A.tiff"
         ],
         "xaxis": "x20",
         "y": [
          395.7162591687764,
          137.72528046108096,
          412.5934926657369,
          193.8940521976113,
          90.9583562254961,
          35.80883446448021,
          3.4756000412048635,
          36.02557299981959,
          626.0740878707244,
          4170.328740374503,
          36.30834749608576,
          18.17667332146746,
          3.3392898478274162
         ],
         "yaxis": "y20"
        },
        {
         "showlegend": false,
         "type": "bar",
         "x": [
          "B01.tiff",
          "B02.tiff",
          "B03.tiff",
          "B04.tiff",
          "B05.tiff",
          "B06.tiff",
          "B07.tiff",
          "B08.tiff",
          "B09.tiff",
          "B10.tiff",
          "B11.tiff",
          "B12.tiff",
          "B8A.tiff"
         ],
         "xaxis": "x21",
         "y": [
          28.636436808989703,
          16.86056394922144,
          3.7075042007662002,
          9.806997786146988,
          2.666594640211149,
          177.57946341619993,
          169.8022222214037,
          132.9235071651312,
          59.90927815772941,
          158.59862782756778,
          52.32315218505525,
          45.72226896334398,
          153.15657024136317
         ],
         "yaxis": "y21"
        },
        {
         "showlegend": false,
         "type": "bar",
         "x": [
          "B01.tiff",
          "B02.tiff",
          "B03.tiff",
          "B04.tiff",
          "B05.tiff",
          "B06.tiff",
          "B07.tiff",
          "B08.tiff",
          "B09.tiff",
          "B10.tiff",
          "B11.tiff",
          "B12.tiff",
          "B8A.tiff"
         ],
         "xaxis": "x22",
         "y": [
          24.530305490812577,
          8.664637464408704,
          21.606498360829626,
          8.51724805096089,
          6.191136872073821,
          6.4925439632485205,
          4.187923137167413,
          1.3105357811361213,
          0.9387240367258523,
          292.3421482170863,
          8.580705165400625,
          3.524406118039109,
          5.645687774052538
         ],
         "yaxis": "y22"
        },
        {
         "showlegend": false,
         "type": "bar",
         "x": [
          "B01.tiff",
          "B02.tiff",
          "B03.tiff",
          "B04.tiff",
          "B05.tiff",
          "B06.tiff",
          "B07.tiff",
          "B08.tiff",
          "B09.tiff",
          "B10.tiff",
          "B11.tiff",
          "B12.tiff",
          "B8A.tiff"
         ],
         "xaxis": "x23",
         "y": [
          11.237297559990662,
          13.428019892971141,
          0.18095585891341628,
          31.473340757745717,
          6.095047222397833,
          70.60504215970187,
          55.75473033158864,
          47.581310211690095,
          68.0834309532801,
          36.19266918700184,
          13.084519256637016,
          9.530406911533802,
          54.471983875927435
         ],
         "yaxis": "y23"
        },
        {
         "showlegend": false,
         "type": "bar",
         "x": [
          "B01.tiff",
          "B02.tiff",
          "B03.tiff",
          "B04.tiff",
          "B05.tiff",
          "B06.tiff",
          "B07.tiff",
          "B08.tiff",
          "B09.tiff",
          "B10.tiff",
          "B11.tiff",
          "B12.tiff",
          "B8A.tiff"
         ],
         "xaxis": "x24",
         "y": [
          0.9030568500899602,
          2.1866953345631064,
          5.3411654221427085,
          2.596925936994574,
          2.1866291489770777,
          5.7492671221672405,
          1.4907375871889672,
          1.0597577528177835,
          0.6403931455156568,
          39.699164439247504,
          1.7446925542740745,
          2.2749186369099883,
          2.164899507745015
         ],
         "yaxis": "y24"
        }
       ],
       "layout": {
        "annotations": [
         {
          "font": {
           "size": 16
          },
          "showarrow": false,
          "text": "N - select_k_best",
          "x": 0.225,
          "xanchor": "center",
          "xref": "paper",
          "y": 1,
          "yanchor": "bottom",
          "yref": "paper"
         },
         {
          "font": {
           "size": 16
          },
          "showarrow": false,
          "text": "N - linear_regression",
          "x": 0.775,
          "xanchor": "center",
          "xref": "paper",
          "y": 1,
          "yanchor": "bottom",
          "yref": "paper"
         },
         {
          "font": {
           "size": 16
          },
          "showarrow": false,
          "text": "P - select_k_best",
          "x": 0.225,
          "xanchor": "center",
          "xref": "paper",
          "y": 0.9131944444444444,
          "yanchor": "bottom",
          "yref": "paper"
         },
         {
          "font": {
           "size": 16
          },
          "showarrow": false,
          "text": "P - linear_regression",
          "x": 0.775,
          "xanchor": "center",
          "xref": "paper",
          "y": 0.9131944444444444,
          "yanchor": "bottom",
          "yref": "paper"
         },
         {
          "font": {
           "size": 16
          },
          "showarrow": false,
          "text": "K - select_k_best",
          "x": 0.225,
          "xanchor": "center",
          "xref": "paper",
          "y": 0.8263888888888888,
          "yanchor": "bottom",
          "yref": "paper"
         },
         {
          "font": {
           "size": 16
          },
          "showarrow": false,
          "text": "K - linear_regression",
          "x": 0.775,
          "xanchor": "center",
          "xref": "paper",
          "y": 0.8263888888888888,
          "yanchor": "bottom",
          "yref": "paper"
         },
         {
          "font": {
           "size": 16
          },
          "showarrow": false,
          "text": "Ca - select_k_best",
          "x": 0.225,
          "xanchor": "center",
          "xref": "paper",
          "y": 0.7395833333333333,
          "yanchor": "bottom",
          "yref": "paper"
         },
         {
          "font": {
           "size": 16
          },
          "showarrow": false,
          "text": "Ca - linear_regression",
          "x": 0.775,
          "xanchor": "center",
          "xref": "paper",
          "y": 0.7395833333333333,
          "yanchor": "bottom",
          "yref": "paper"
         },
         {
          "font": {
           "size": 16
          },
          "showarrow": false,
          "text": "Mg - select_k_best",
          "x": 0.225,
          "xanchor": "center",
          "xref": "paper",
          "y": 0.6527777777777777,
          "yanchor": "bottom",
          "yref": "paper"
         },
         {
          "font": {
           "size": 16
          },
          "showarrow": false,
          "text": "Mg - linear_regression",
          "x": 0.775,
          "xanchor": "center",
          "xref": "paper",
          "y": 0.6527777777777777,
          "yanchor": "bottom",
          "yref": "paper"
         },
         {
          "font": {
           "size": 16
          },
          "showarrow": false,
          "text": "S - select_k_best",
          "x": 0.225,
          "xanchor": "center",
          "xref": "paper",
          "y": 0.5659722222222223,
          "yanchor": "bottom",
          "yref": "paper"
         },
         {
          "font": {
           "size": 16
          },
          "showarrow": false,
          "text": "S - linear_regression",
          "x": 0.775,
          "xanchor": "center",
          "xref": "paper",
          "y": 0.5659722222222223,
          "yanchor": "bottom",
          "yref": "paper"
         },
         {
          "font": {
           "size": 16
          },
          "showarrow": false,
          "text": "B - select_k_best",
          "x": 0.225,
          "xanchor": "center",
          "xref": "paper",
          "y": 0.4791666666666667,
          "yanchor": "bottom",
          "yref": "paper"
         },
         {
          "font": {
           "size": 16
          },
          "showarrow": false,
          "text": "B - linear_regression",
          "x": 0.775,
          "xanchor": "center",
          "xref": "paper",
          "y": 0.4791666666666667,
          "yanchor": "bottom",
          "yref": "paper"
         },
         {
          "font": {
           "size": 16
          },
          "showarrow": false,
          "text": "Cu - select_k_best",
          "x": 0.225,
          "xanchor": "center",
          "xref": "paper",
          "y": 0.3923611111111111,
          "yanchor": "bottom",
          "yref": "paper"
         },
         {
          "font": {
           "size": 16
          },
          "showarrow": false,
          "text": "Cu - linear_regression",
          "x": 0.775,
          "xanchor": "center",
          "xref": "paper",
          "y": 0.3923611111111111,
          "yanchor": "bottom",
          "yref": "paper"
         },
         {
          "font": {
           "size": 16
          },
          "showarrow": false,
          "text": "Mn - select_k_best",
          "x": 0.225,
          "xanchor": "center",
          "xref": "paper",
          "y": 0.3055555555555556,
          "yanchor": "bottom",
          "yref": "paper"
         },
         {
          "font": {
           "size": 16
          },
          "showarrow": false,
          "text": "Mn - linear_regression",
          "x": 0.775,
          "xanchor": "center",
          "xref": "paper",
          "y": 0.3055555555555556,
          "yanchor": "bottom",
          "yref": "paper"
         },
         {
          "font": {
           "size": 16
          },
          "showarrow": false,
          "text": "Zn - select_k_best",
          "x": 0.225,
          "xanchor": "center",
          "xref": "paper",
          "y": 0.21875,
          "yanchor": "bottom",
          "yref": "paper"
         },
         {
          "font": {
           "size": 16
          },
          "showarrow": false,
          "text": "Zn - linear_regression",
          "x": 0.775,
          "xanchor": "center",
          "xref": "paper",
          "y": 0.21875,
          "yanchor": "bottom",
          "yref": "paper"
         },
         {
          "font": {
           "size": 16
          },
          "showarrow": false,
          "text": "Mo - select_k_best",
          "x": 0.225,
          "xanchor": "center",
          "xref": "paper",
          "y": 0.13194444444444445,
          "yanchor": "bottom",
          "yref": "paper"
         },
         {
          "font": {
           "size": 16
          },
          "showarrow": false,
          "text": "Mo - linear_regression",
          "x": 0.775,
          "xanchor": "center",
          "xref": "paper",
          "y": 0.13194444444444445,
          "yanchor": "bottom",
          "yref": "paper"
         },
         {
          "font": {
           "size": 16
          },
          "showarrow": false,
          "text": "Ni - select_k_best",
          "x": 0.225,
          "xanchor": "center",
          "xref": "paper",
          "y": 0.045138888888888895,
          "yanchor": "bottom",
          "yref": "paper"
         },
         {
          "font": {
           "size": 16
          },
          "showarrow": false,
          "text": "Ni - linear_regression",
          "x": 0.775,
          "xanchor": "center",
          "xref": "paper",
          "y": 0.045138888888888895,
          "yanchor": "bottom",
          "yref": "paper"
         }
        ],
        "height": 4800,
        "template": {
         "data": {
          "bar": [
           {
            "error_x": {
             "color": "#2a3f5f"
            },
            "error_y": {
             "color": "#2a3f5f"
            },
            "marker": {
             "line": {
              "color": "#E5ECF6",
              "width": 0.5
             },
             "pattern": {
              "fillmode": "overlay",
              "size": 10,
              "solidity": 0.2
             }
            },
            "type": "bar"
           }
          ],
          "barpolar": [
           {
            "marker": {
             "line": {
              "color": "#E5ECF6",
              "width": 0.5
             },
             "pattern": {
              "fillmode": "overlay",
              "size": 10,
              "solidity": 0.2
             }
            },
            "type": "barpolar"
           }
          ],
          "carpet": [
           {
            "aaxis": {
             "endlinecolor": "#2a3f5f",
             "gridcolor": "white",
             "linecolor": "white",
             "minorgridcolor": "white",
             "startlinecolor": "#2a3f5f"
            },
            "baxis": {
             "endlinecolor": "#2a3f5f",
             "gridcolor": "white",
             "linecolor": "white",
             "minorgridcolor": "white",
             "startlinecolor": "#2a3f5f"
            },
            "type": "carpet"
           }
          ],
          "choropleth": [
           {
            "colorbar": {
             "outlinewidth": 0,
             "ticks": ""
            },
            "type": "choropleth"
           }
          ],
          "contour": [
           {
            "colorbar": {
             "outlinewidth": 0,
             "ticks": ""
            },
            "colorscale": [
             [
              0,
              "#0d0887"
             ],
             [
              0.1111111111111111,
              "#46039f"
             ],
             [
              0.2222222222222222,
              "#7201a8"
             ],
             [
              0.3333333333333333,
              "#9c179e"
             ],
             [
              0.4444444444444444,
              "#bd3786"
             ],
             [
              0.5555555555555556,
              "#d8576b"
             ],
             [
              0.6666666666666666,
              "#ed7953"
             ],
             [
              0.7777777777777778,
              "#fb9f3a"
             ],
             [
              0.8888888888888888,
              "#fdca26"
             ],
             [
              1,
              "#f0f921"
             ]
            ],
            "type": "contour"
           }
          ],
          "contourcarpet": [
           {
            "colorbar": {
             "outlinewidth": 0,
             "ticks": ""
            },
            "type": "contourcarpet"
           }
          ],
          "heatmap": [
           {
            "colorbar": {
             "outlinewidth": 0,
             "ticks": ""
            },
            "colorscale": [
             [
              0,
              "#0d0887"
             ],
             [
              0.1111111111111111,
              "#46039f"
             ],
             [
              0.2222222222222222,
              "#7201a8"
             ],
             [
              0.3333333333333333,
              "#9c179e"
             ],
             [
              0.4444444444444444,
              "#bd3786"
             ],
             [
              0.5555555555555556,
              "#d8576b"
             ],
             [
              0.6666666666666666,
              "#ed7953"
             ],
             [
              0.7777777777777778,
              "#fb9f3a"
             ],
             [
              0.8888888888888888,
              "#fdca26"
             ],
             [
              1,
              "#f0f921"
             ]
            ],
            "type": "heatmap"
           }
          ],
          "heatmapgl": [
           {
            "colorbar": {
             "outlinewidth": 0,
             "ticks": ""
            },
            "colorscale": [
             [
              0,
              "#0d0887"
             ],
             [
              0.1111111111111111,
              "#46039f"
             ],
             [
              0.2222222222222222,
              "#7201a8"
             ],
             [
              0.3333333333333333,
              "#9c179e"
             ],
             [
              0.4444444444444444,
              "#bd3786"
             ],
             [
              0.5555555555555556,
              "#d8576b"
             ],
             [
              0.6666666666666666,
              "#ed7953"
             ],
             [
              0.7777777777777778,
              "#fb9f3a"
             ],
             [
              0.8888888888888888,
              "#fdca26"
             ],
             [
              1,
              "#f0f921"
             ]
            ],
            "type": "heatmapgl"
           }
          ],
          "histogram": [
           {
            "marker": {
             "pattern": {
              "fillmode": "overlay",
              "size": 10,
              "solidity": 0.2
             }
            },
            "type": "histogram"
           }
          ],
          "histogram2d": [
           {
            "colorbar": {
             "outlinewidth": 0,
             "ticks": ""
            },
            "colorscale": [
             [
              0,
              "#0d0887"
             ],
             [
              0.1111111111111111,
              "#46039f"
             ],
             [
              0.2222222222222222,
              "#7201a8"
             ],
             [
              0.3333333333333333,
              "#9c179e"
             ],
             [
              0.4444444444444444,
              "#bd3786"
             ],
             [
              0.5555555555555556,
              "#d8576b"
             ],
             [
              0.6666666666666666,
              "#ed7953"
             ],
             [
              0.7777777777777778,
              "#fb9f3a"
             ],
             [
              0.8888888888888888,
              "#fdca26"
             ],
             [
              1,
              "#f0f921"
             ]
            ],
            "type": "histogram2d"
           }
          ],
          "histogram2dcontour": [
           {
            "colorbar": {
             "outlinewidth": 0,
             "ticks": ""
            },
            "colorscale": [
             [
              0,
              "#0d0887"
             ],
             [
              0.1111111111111111,
              "#46039f"
             ],
             [
              0.2222222222222222,
              "#7201a8"
             ],
             [
              0.3333333333333333,
              "#9c179e"
             ],
             [
              0.4444444444444444,
              "#bd3786"
             ],
             [
              0.5555555555555556,
              "#d8576b"
             ],
             [
              0.6666666666666666,
              "#ed7953"
             ],
             [
              0.7777777777777778,
              "#fb9f3a"
             ],
             [
              0.8888888888888888,
              "#fdca26"
             ],
             [
              1,
              "#f0f921"
             ]
            ],
            "type": "histogram2dcontour"
           }
          ],
          "mesh3d": [
           {
            "colorbar": {
             "outlinewidth": 0,
             "ticks": ""
            },
            "type": "mesh3d"
           }
          ],
          "parcoords": [
           {
            "line": {
             "colorbar": {
              "outlinewidth": 0,
              "ticks": ""
             }
            },
            "type": "parcoords"
           }
          ],
          "pie": [
           {
            "automargin": true,
            "type": "pie"
           }
          ],
          "scatter": [
           {
            "fillpattern": {
             "fillmode": "overlay",
             "size": 10,
             "solidity": 0.2
            },
            "type": "scatter"
           }
          ],
          "scatter3d": [
           {
            "line": {
             "colorbar": {
              "outlinewidth": 0,
              "ticks": ""
             }
            },
            "marker": {
             "colorbar": {
              "outlinewidth": 0,
              "ticks": ""
             }
            },
            "type": "scatter3d"
           }
          ],
          "scattercarpet": [
           {
            "marker": {
             "colorbar": {
              "outlinewidth": 0,
              "ticks": ""
             }
            },
            "type": "scattercarpet"
           }
          ],
          "scattergeo": [
           {
            "marker": {
             "colorbar": {
              "outlinewidth": 0,
              "ticks": ""
             }
            },
            "type": "scattergeo"
           }
          ],
          "scattergl": [
           {
            "marker": {
             "colorbar": {
              "outlinewidth": 0,
              "ticks": ""
             }
            },
            "type": "scattergl"
           }
          ],
          "scattermapbox": [
           {
            "marker": {
             "colorbar": {
              "outlinewidth": 0,
              "ticks": ""
             }
            },
            "type": "scattermapbox"
           }
          ],
          "scatterpolar": [
           {
            "marker": {
             "colorbar": {
              "outlinewidth": 0,
              "ticks": ""
             }
            },
            "type": "scatterpolar"
           }
          ],
          "scatterpolargl": [
           {
            "marker": {
             "colorbar": {
              "outlinewidth": 0,
              "ticks": ""
             }
            },
            "type": "scatterpolargl"
           }
          ],
          "scatterternary": [
           {
            "marker": {
             "colorbar": {
              "outlinewidth": 0,
              "ticks": ""
             }
            },
            "type": "scatterternary"
           }
          ],
          "surface": [
           {
            "colorbar": {
             "outlinewidth": 0,
             "ticks": ""
            },
            "colorscale": [
             [
              0,
              "#0d0887"
             ],
             [
              0.1111111111111111,
              "#46039f"
             ],
             [
              0.2222222222222222,
              "#7201a8"
             ],
             [
              0.3333333333333333,
              "#9c179e"
             ],
             [
              0.4444444444444444,
              "#bd3786"
             ],
             [
              0.5555555555555556,
              "#d8576b"
             ],
             [
              0.6666666666666666,
              "#ed7953"
             ],
             [
              0.7777777777777778,
              "#fb9f3a"
             ],
             [
              0.8888888888888888,
              "#fdca26"
             ],
             [
              1,
              "#f0f921"
             ]
            ],
            "type": "surface"
           }
          ],
          "table": [
           {
            "cells": {
             "fill": {
              "color": "#EBF0F8"
             },
             "line": {
              "color": "white"
             }
            },
            "header": {
             "fill": {
              "color": "#C8D4E3"
             },
             "line": {
              "color": "white"
             }
            },
            "type": "table"
           }
          ]
         },
         "layout": {
          "annotationdefaults": {
           "arrowcolor": "#2a3f5f",
           "arrowhead": 0,
           "arrowwidth": 1
          },
          "autotypenumbers": "strict",
          "coloraxis": {
           "colorbar": {
            "outlinewidth": 0,
            "ticks": ""
           }
          },
          "colorscale": {
           "diverging": [
            [
             0,
             "#8e0152"
            ],
            [
             0.1,
             "#c51b7d"
            ],
            [
             0.2,
             "#de77ae"
            ],
            [
             0.3,
             "#f1b6da"
            ],
            [
             0.4,
             "#fde0ef"
            ],
            [
             0.5,
             "#f7f7f7"
            ],
            [
             0.6,
             "#e6f5d0"
            ],
            [
             0.7,
             "#b8e186"
            ],
            [
             0.8,
             "#7fbc41"
            ],
            [
             0.9,
             "#4d9221"
            ],
            [
             1,
             "#276419"
            ]
           ],
           "sequential": [
            [
             0,
             "#0d0887"
            ],
            [
             0.1111111111111111,
             "#46039f"
            ],
            [
             0.2222222222222222,
             "#7201a8"
            ],
            [
             0.3333333333333333,
             "#9c179e"
            ],
            [
             0.4444444444444444,
             "#bd3786"
            ],
            [
             0.5555555555555556,
             "#d8576b"
            ],
            [
             0.6666666666666666,
             "#ed7953"
            ],
            [
             0.7777777777777778,
             "#fb9f3a"
            ],
            [
             0.8888888888888888,
             "#fdca26"
            ],
            [
             1,
             "#f0f921"
            ]
           ],
           "sequentialminus": [
            [
             0,
             "#0d0887"
            ],
            [
             0.1111111111111111,
             "#46039f"
            ],
            [
             0.2222222222222222,
             "#7201a8"
            ],
            [
             0.3333333333333333,
             "#9c179e"
            ],
            [
             0.4444444444444444,
             "#bd3786"
            ],
            [
             0.5555555555555556,
             "#d8576b"
            ],
            [
             0.6666666666666666,
             "#ed7953"
            ],
            [
             0.7777777777777778,
             "#fb9f3a"
            ],
            [
             0.8888888888888888,
             "#fdca26"
            ],
            [
             1,
             "#f0f921"
            ]
           ]
          },
          "colorway": [
           "#636efa",
           "#EF553B",
           "#00cc96",
           "#ab63fa",
           "#FFA15A",
           "#19d3f3",
           "#FF6692",
           "#B6E880",
           "#FF97FF",
           "#FECB52"
          ],
          "font": {
           "color": "#2a3f5f"
          },
          "geo": {
           "bgcolor": "white",
           "lakecolor": "white",
           "landcolor": "#E5ECF6",
           "showlakes": true,
           "showland": true,
           "subunitcolor": "white"
          },
          "hoverlabel": {
           "align": "left"
          },
          "hovermode": "closest",
          "mapbox": {
           "style": "light"
          },
          "paper_bgcolor": "white",
          "plot_bgcolor": "#E5ECF6",
          "polar": {
           "angularaxis": {
            "gridcolor": "white",
            "linecolor": "white",
            "ticks": ""
           },
           "bgcolor": "#E5ECF6",
           "radialaxis": {
            "gridcolor": "white",
            "linecolor": "white",
            "ticks": ""
           }
          },
          "scene": {
           "xaxis": {
            "backgroundcolor": "#E5ECF6",
            "gridcolor": "white",
            "gridwidth": 2,
            "linecolor": "white",
            "showbackground": true,
            "ticks": "",
            "zerolinecolor": "white"
           },
           "yaxis": {
            "backgroundcolor": "#E5ECF6",
            "gridcolor": "white",
            "gridwidth": 2,
            "linecolor": "white",
            "showbackground": true,
            "ticks": "",
            "zerolinecolor": "white"
           },
           "zaxis": {
            "backgroundcolor": "#E5ECF6",
            "gridcolor": "white",
            "gridwidth": 2,
            "linecolor": "white",
            "showbackground": true,
            "ticks": "",
            "zerolinecolor": "white"
           }
          },
          "shapedefaults": {
           "line": {
            "color": "#2a3f5f"
           }
          },
          "ternary": {
           "aaxis": {
            "gridcolor": "white",
            "linecolor": "white",
            "ticks": ""
           },
           "baxis": {
            "gridcolor": "white",
            "linecolor": "white",
            "ticks": ""
           },
           "bgcolor": "#E5ECF6",
           "caxis": {
            "gridcolor": "white",
            "linecolor": "white",
            "ticks": ""
           }
          },
          "title": {
           "x": 0.05
          },
          "xaxis": {
           "automargin": true,
           "gridcolor": "white",
           "linecolor": "white",
           "ticks": "",
           "title": {
            "standoff": 15
           },
           "zerolinecolor": "white",
           "zerolinewidth": 2
          },
          "yaxis": {
           "automargin": true,
           "gridcolor": "white",
           "linecolor": "white",
           "ticks": "",
           "title": {
            "standoff": 15
           },
           "zerolinecolor": "white",
           "zerolinewidth": 2
          }
         }
        },
        "title": {
         "text": "Feature Importance - Map 1"
        },
        "xaxis": {
         "anchor": "y",
         "domain": [
          0,
          0.45
         ],
         "title": {
          "text": "N - select_k_best"
         }
        },
        "xaxis10": {
         "anchor": "y10",
         "domain": [
          0.55,
          1
         ],
         "title": {
          "text": ""
         }
        },
        "xaxis11": {
         "anchor": "y11",
         "domain": [
          0,
          0.45
         ],
         "title": {
          "text": "S - select_k_best"
         }
        },
        "xaxis12": {
         "anchor": "y12",
         "domain": [
          0.55,
          1
         ],
         "title": {
          "text": ""
         }
        },
        "xaxis13": {
         "anchor": "y13",
         "domain": [
          0,
          0.45
         ],
         "title": {
          "text": "B - select_k_best"
         }
        },
        "xaxis14": {
         "anchor": "y14",
         "domain": [
          0.55,
          1
         ],
         "title": {
          "text": ""
         }
        },
        "xaxis15": {
         "anchor": "y15",
         "domain": [
          0,
          0.45
         ],
         "title": {
          "text": "Cu - select_k_best"
         }
        },
        "xaxis16": {
         "anchor": "y16",
         "domain": [
          0.55,
          1
         ],
         "title": {
          "text": ""
         }
        },
        "xaxis17": {
         "anchor": "y17",
         "domain": [
          0,
          0.45
         ],
         "title": {
          "text": "Mn - select_k_best"
         }
        },
        "xaxis18": {
         "anchor": "y18",
         "domain": [
          0.55,
          1
         ],
         "title": {
          "text": ""
         }
        },
        "xaxis19": {
         "anchor": "y19",
         "domain": [
          0,
          0.45
         ],
         "title": {
          "text": "Zn - select_k_best"
         }
        },
        "xaxis2": {
         "anchor": "y2",
         "domain": [
          0.55,
          1
         ],
         "title": {
          "text": ""
         }
        },
        "xaxis20": {
         "anchor": "y20",
         "domain": [
          0.55,
          1
         ],
         "title": {
          "text": ""
         }
        },
        "xaxis21": {
         "anchor": "y21",
         "domain": [
          0,
          0.45
         ],
         "title": {
          "text": "Mo - select_k_best"
         }
        },
        "xaxis22": {
         "anchor": "y22",
         "domain": [
          0.55,
          1
         ],
         "title": {
          "text": ""
         }
        },
        "xaxis23": {
         "anchor": "y23",
         "domain": [
          0,
          0.45
         ],
         "title": {
          "text": "Ni - select_k_best"
         }
        },
        "xaxis24": {
         "anchor": "y24",
         "domain": [
          0.55,
          1
         ],
         "title": {
          "text": ""
         }
        },
        "xaxis3": {
         "anchor": "y3",
         "domain": [
          0,
          0.45
         ],
         "title": {
          "text": "P - select_k_best"
         }
        },
        "xaxis4": {
         "anchor": "y4",
         "domain": [
          0.55,
          1
         ],
         "title": {
          "text": ""
         }
        },
        "xaxis5": {
         "anchor": "y5",
         "domain": [
          0,
          0.45
         ],
         "title": {
          "text": "K - select_k_best"
         }
        },
        "xaxis6": {
         "anchor": "y6",
         "domain": [
          0.55,
          1
         ],
         "title": {
          "text": ""
         }
        },
        "xaxis7": {
         "anchor": "y7",
         "domain": [
          0,
          0.45
         ],
         "title": {
          "text": "Ca - select_k_best"
         }
        },
        "xaxis8": {
         "anchor": "y8",
         "domain": [
          0.55,
          1
         ],
         "title": {
          "text": ""
         }
        },
        "xaxis9": {
         "anchor": "y9",
         "domain": [
          0,
          0.45
         ],
         "title": {
          "text": "Mg - select_k_best"
         }
        },
        "yaxis": {
         "anchor": "x",
         "domain": [
          0.9548611111111112,
          1
         ]
        },
        "yaxis10": {
         "anchor": "x10",
         "domain": [
          0.6076388888888888,
          0.6527777777777777
         ]
        },
        "yaxis11": {
         "anchor": "x11",
         "domain": [
          0.5208333333333334,
          0.5659722222222223
         ]
        },
        "yaxis12": {
         "anchor": "x12",
         "domain": [
          0.5208333333333334,
          0.5659722222222223
         ]
        },
        "yaxis13": {
         "anchor": "x13",
         "domain": [
          0.4340277777777778,
          0.4791666666666667
         ]
        },
        "yaxis14": {
         "anchor": "x14",
         "domain": [
          0.4340277777777778,
          0.4791666666666667
         ]
        },
        "yaxis15": {
         "anchor": "x15",
         "domain": [
          0.3472222222222222,
          0.3923611111111111
         ]
        },
        "yaxis16": {
         "anchor": "x16",
         "domain": [
          0.3472222222222222,
          0.3923611111111111
         ]
        },
        "yaxis17": {
         "anchor": "x17",
         "domain": [
          0.2604166666666667,
          0.3055555555555556
         ]
        },
        "yaxis18": {
         "anchor": "x18",
         "domain": [
          0.2604166666666667,
          0.3055555555555556
         ]
        },
        "yaxis19": {
         "anchor": "x19",
         "domain": [
          0.1736111111111111,
          0.21875
         ]
        },
        "yaxis2": {
         "anchor": "x2",
         "domain": [
          0.9548611111111112,
          1
         ]
        },
        "yaxis20": {
         "anchor": "x20",
         "domain": [
          0.1736111111111111,
          0.21875
         ]
        },
        "yaxis21": {
         "anchor": "x21",
         "domain": [
          0.08680555555555555,
          0.13194444444444445
         ]
        },
        "yaxis22": {
         "anchor": "x22",
         "domain": [
          0.08680555555555555,
          0.13194444444444445
         ]
        },
        "yaxis23": {
         "anchor": "x23",
         "domain": [
          0,
          0.045138888888888895
         ]
        },
        "yaxis24": {
         "anchor": "x24",
         "domain": [
          0,
          0.045138888888888895
         ]
        },
        "yaxis3": {
         "anchor": "x3",
         "domain": [
          0.8680555555555556,
          0.9131944444444444
         ]
        },
        "yaxis4": {
         "anchor": "x4",
         "domain": [
          0.8680555555555556,
          0.9131944444444444
         ]
        },
        "yaxis5": {
         "anchor": "x5",
         "domain": [
          0.78125,
          0.8263888888888888
         ]
        },
        "yaxis6": {
         "anchor": "x6",
         "domain": [
          0.78125,
          0.8263888888888888
         ]
        },
        "yaxis7": {
         "anchor": "x7",
         "domain": [
          0.6944444444444444,
          0.7395833333333333
         ]
        },
        "yaxis8": {
         "anchor": "x8",
         "domain": [
          0.6944444444444444,
          0.7395833333333333
         ]
        },
        "yaxis9": {
         "anchor": "x9",
         "domain": [
          0.6076388888888888,
          0.6527777777777777
         ]
        }
       }
      }
     },
     "metadata": {},
     "output_type": "display_data"
    }
   ],
   "source": [
    "map_name = 'map1'\n",
    "\n",
    "filepath = f'data/{map_name}/interpolation/universal_interpolated_df.csv'\n",
    "target_columns = ['N', 'P', 'K', 'Ca', 'Mg', 'S', 'B', 'Cu', 'Mn', 'Zn', 'Mo', 'Ni']\n",
    "\n",
    "map1 = pd.read_csv(filepath)\n",
    "\n",
    "map1 = drop_lat_lon(map1)\n",
    "bands = get_bands(map1, '.tiff')\n",
    "nutrients = get_nutrients(map1, bands)\n",
    "nutrients = nutrients[target_columns]\n",
    "\n",
    "map1_feature_importance_df = process_multiple_targets(bands, nutrients, methods=['select_k_best', 'linear_regression'], k=10)\n",
    "feature_importance_plot(map1_feature_importance_df, title=\"Feature Importance - Map 1\")\n"
   ]
  },
  {
   "cell_type": "markdown",
   "metadata": {},
   "source": [
    "# Talhão 2"
   ]
  },
  {
   "cell_type": "code",
   "execution_count": 3,
   "metadata": {},
   "outputs": [
    {
     "data": {
      "application/vnd.plotly.v1+json": {
       "config": {
        "plotlyServerURL": "https://plot.ly"
       },
       "data": [
        {
         "showlegend": false,
         "type": "bar",
         "x": [
          "B01.tiff",
          "B02.tiff",
          "B03.tiff",
          "B04.tiff",
          "B05.tiff",
          "B06.tiff",
          "B07.tiff",
          "B08.tiff",
          "B8A.tiff",
          "B09.tiff",
          "B11.tiff",
          "B12.tiff"
         ],
         "xaxis": "x",
         "y": [
          5.115370006864208,
          0.14351486518517947,
          0.10129667061468912,
          0.23840694496068884,
          0.4268568682404307,
          5.768798401071514,
          0.7419752862454142,
          1.2771600752869192,
          1.9463734174731813,
          3.7917535612777877,
          16.98738860221212,
          0.19793784279522766
         ],
         "yaxis": "y"
        },
        {
         "showlegend": false,
         "type": "bar",
         "x": [
          "B01.tiff",
          "B02.tiff",
          "B03.tiff",
          "B04.tiff",
          "B05.tiff",
          "B06.tiff",
          "B07.tiff",
          "B08.tiff",
          "B8A.tiff",
          "B09.tiff",
          "B11.tiff",
          "B12.tiff"
         ],
         "xaxis": "x2",
         "y": [
          54.2542962163087,
          11.26835246784587,
          1.6949741356860675,
          7.137336330935724,
          34.24514944340332,
          22.129708219301396,
          28.31505326563884,
          0.6390412657826294,
          2.9955196071825005,
          2.9228046152698797,
          57.70790966153033,
          36.63251227671144
         ],
         "yaxis": "y2"
        },
        {
         "showlegend": false,
         "type": "bar",
         "x": [
          "B01.tiff",
          "B02.tiff",
          "B03.tiff",
          "B04.tiff",
          "B05.tiff",
          "B06.tiff",
          "B07.tiff",
          "B08.tiff",
          "B8A.tiff",
          "B09.tiff",
          "B11.tiff",
          "B12.tiff"
         ],
         "xaxis": "x3",
         "y": [
          164.55900708919296,
          0.042579917231760724,
          16.73767559938248,
          0.015208372845541059,
          2.3607725815361382,
          135.92514097442492,
          85.6998087827686,
          55.59371501181478,
          81.31747856718539,
          232.27469130610413,
          87.60991177388769,
          1.9613119596554556
         ],
         "yaxis": "y3"
        },
        {
         "showlegend": false,
         "type": "bar",
         "x": [
          "B01.tiff",
          "B02.tiff",
          "B03.tiff",
          "B04.tiff",
          "B05.tiff",
          "B06.tiff",
          "B07.tiff",
          "B08.tiff",
          "B8A.tiff",
          "B09.tiff",
          "B11.tiff",
          "B12.tiff"
         ],
         "xaxis": "x4",
         "y": [
          4.970038527692123,
          4.950693439783945,
          2.1705268686177215,
          2.2746223908254537,
          3.9048138800330756,
          2.741868558185036,
          0.6579424764538317,
          0.042020094303532485,
          2.8447176215154624,
          0.048541079995531256,
          4.7245469147980685,
          5.747731208713224
         ],
         "yaxis": "y4"
        },
        {
         "showlegend": false,
         "type": "bar",
         "x": [
          "B01.tiff",
          "B02.tiff",
          "B03.tiff",
          "B04.tiff",
          "B05.tiff",
          "B06.tiff",
          "B07.tiff",
          "B08.tiff",
          "B8A.tiff",
          "B09.tiff",
          "B11.tiff",
          "B12.tiff"
         ],
         "xaxis": "x5",
         "y": [
          35.67636002156913,
          63.429318360078526,
          76.63692312386293,
          2.756901207188786,
          24.001962088442067,
          37.56511945262265,
          9.873517414838195,
          14.389597729874977,
          13.57302706532712,
          15.52391010633935,
          123.48481100484469,
          9.302414640053145
         ],
         "yaxis": "y5"
        },
        {
         "showlegend": false,
         "type": "bar",
         "x": [
          "B01.tiff",
          "B02.tiff",
          "B03.tiff",
          "B04.tiff",
          "B05.tiff",
          "B06.tiff",
          "B07.tiff",
          "B08.tiff",
          "B8A.tiff",
          "B09.tiff",
          "B11.tiff",
          "B12.tiff"
         ],
         "xaxis": "x6",
         "y": [
          116.55864358670371,
          134.3393001283578,
          31.693470027207113,
          58.119908769256114,
          21.655703303331457,
          18.242941581532726,
          17.985301083447908,
          1.862979324375992,
          6.398155188464877,
          3.386728831842973,
          66.52531087585734,
          78.47364520774363
         ],
         "yaxis": "y6"
        },
        {
         "showlegend": false,
         "type": "bar",
         "x": [
          "B01.tiff",
          "B02.tiff",
          "B03.tiff",
          "B04.tiff",
          "B05.tiff",
          "B06.tiff",
          "B07.tiff",
          "B08.tiff",
          "B8A.tiff",
          "B09.tiff",
          "B11.tiff",
          "B12.tiff"
         ],
         "xaxis": "x7",
         "y": [
          0.014527648176158404,
          0.32266958240816157,
          0.6853957723500876,
          0.7577685300716208,
          0.6998578641778743,
          0.672318887822363,
          0.3649626518780597,
          0.0004944041632437295,
          0.4963685925269381,
          2.8895936187128237,
          10.479087250026348,
          2.348496491808218
         ],
         "yaxis": "y7"
        },
        {
         "showlegend": false,
         "type": "bar",
         "x": [
          "B01.tiff",
          "B02.tiff",
          "B03.tiff",
          "B04.tiff",
          "B05.tiff",
          "B06.tiff",
          "B07.tiff",
          "B08.tiff",
          "B8A.tiff",
          "B09.tiff",
          "B11.tiff",
          "B12.tiff"
         ],
         "xaxis": "x8",
         "y": [
          0.11037010319613808,
          0.12981139251346074,
          0.024383127069107675,
          0.032103645320228684,
          0.07194160060904484,
          0.00031782878755756,
          0.004620276922232644,
          0.023674861433201848,
          0.004425642030920746,
          0.013040838494695894,
          0.15551200609078475,
          0.06919127096147937
         ],
         "yaxis": "y8"
        },
        {
         "showlegend": false,
         "type": "bar",
         "x": [
          "B01.tiff",
          "B02.tiff",
          "B03.tiff",
          "B04.tiff",
          "B05.tiff",
          "B06.tiff",
          "B07.tiff",
          "B08.tiff",
          "B8A.tiff",
          "B09.tiff",
          "B11.tiff",
          "B12.tiff"
         ],
         "xaxis": "x9",
         "y": [
          69.44562986416994,
          63.617056031893085,
          66.0572091047456,
          25.589584034459723,
          48.588148626486785,
          3.959515137064207,
          0.059151762227868776,
          0.14957564882577545,
          0.026602613857083488,
          0.14677134044435436,
          180.37658338418854,
          71.1704498645293
         ],
         "yaxis": "y9"
        },
        {
         "showlegend": false,
         "type": "bar",
         "x": [
          "B01.tiff",
          "B02.tiff",
          "B03.tiff",
          "B04.tiff",
          "B05.tiff",
          "B06.tiff",
          "B07.tiff",
          "B08.tiff",
          "B8A.tiff",
          "B09.tiff",
          "B11.tiff",
          "B12.tiff"
         ],
         "xaxis": "x10",
         "y": [
          4.19983548984556,
          3.6444859866409374,
          0.09782287950769271,
          1.1661478669645775,
          0.81396905432807,
          0.954304549277842,
          0.3681355683384657,
          0.11367554931261514,
          1.249867321904865,
          0.1916292749492221,
          1.7305841341470665,
          1.1230954281369914
         ],
         "yaxis": "y10"
        },
        {
         "showlegend": false,
         "type": "bar",
         "x": [
          "B01.tiff",
          "B02.tiff",
          "B03.tiff",
          "B04.tiff",
          "B05.tiff",
          "B06.tiff",
          "B07.tiff",
          "B08.tiff",
          "B8A.tiff",
          "B09.tiff",
          "B11.tiff",
          "B12.tiff"
         ],
         "xaxis": "x11",
         "y": [
          6.695451345285559,
          1.0646324239861327,
          5.288914741739955,
          0.6331550565859488,
          8.218749524263668,
          0.5637335602925349,
          0.3646696283137482,
          0.0017663336387455466,
          0.01691696680959945,
          5.8648551753324965,
          16.455307346259225,
          23.681310230569878
         ],
         "yaxis": "y11"
        },
        {
         "showlegend": false,
         "type": "bar",
         "x": [
          "B01.tiff",
          "B02.tiff",
          "B03.tiff",
          "B04.tiff",
          "B05.tiff",
          "B06.tiff",
          "B07.tiff",
          "B08.tiff",
          "B8A.tiff",
          "B09.tiff",
          "B11.tiff",
          "B12.tiff"
         ],
         "xaxis": "x12",
         "y": [
          2.005600004932253,
          1.623210791322837,
          0.020565205164105094,
          0.0332901415109082,
          3.409809566297799,
          0.4726584709511702,
          0.37620158312729657,
          0.06360243547216271,
          0.08546820075048356,
          0.1036257123399611,
          1.3472090713097344,
          3.0767586673885594
         ],
         "yaxis": "y12"
        },
        {
         "showlegend": false,
         "type": "bar",
         "x": [
          "B01.tiff",
          "B02.tiff",
          "B03.tiff",
          "B04.tiff",
          "B05.tiff",
          "B06.tiff",
          "B07.tiff",
          "B08.tiff",
          "B8A.tiff",
          "B09.tiff",
          "B11.tiff",
          "B12.tiff"
         ],
         "xaxis": "x13",
         "y": [
          23.579804236521063,
          0.0008552705016220668,
          0.12354130795524042,
          20.05786072718806,
          9.634934374976023,
          449.6772027137911,
          414.4731402280595,
          378.6939107092148,
          453.68700090887944,
          541.8522426671454,
          359.34666937430524,
          0.0395362650338099
         ],
         "yaxis": "y13"
        },
        {
         "showlegend": false,
         "type": "bar",
         "x": [
          "B01.tiff",
          "B02.tiff",
          "B03.tiff",
          "B04.tiff",
          "B05.tiff",
          "B06.tiff",
          "B07.tiff",
          "B08.tiff",
          "B8A.tiff",
          "B09.tiff",
          "B11.tiff",
          "B12.tiff"
         ],
         "xaxis": "x14",
         "y": [
          190.7531486238238,
          100.99466541195866,
          78.91368787631397,
          6.17020252545263,
          2.3737634313872658,
          21.548827502805207,
          25.495198169412248,
          2.660456428908091,
          24.371782926163462,
          13.805675695769978,
          88.91132538752994,
          71.76898967097893
         ],
         "yaxis": "y14"
        },
        {
         "showlegend": false,
         "type": "bar",
         "x": [
          "B01.tiff",
          "B02.tiff",
          "B03.tiff",
          "B04.tiff",
          "B05.tiff",
          "B06.tiff",
          "B07.tiff",
          "B08.tiff",
          "B8A.tiff",
          "B09.tiff",
          "B11.tiff",
          "B12.tiff"
         ],
         "xaxis": "x15",
         "y": [
          173.1608559411356,
          8.506195628262214,
          1.9078941046180058,
          0.4444159199544503,
          1.0958146708079675,
          129.88652007616136,
          94.66333018952926,
          62.60024441389122,
          92.2259781543297,
          223.87566089065754,
          93.31526334634336,
          0.020644083578792966
         ],
         "yaxis": "y15"
        },
        {
         "showlegend": false,
         "type": "bar",
         "x": [
          "B01.tiff",
          "B02.tiff",
          "B03.tiff",
          "B04.tiff",
          "B05.tiff",
          "B06.tiff",
          "B07.tiff",
          "B08.tiff",
          "B8A.tiff",
          "B09.tiff",
          "B11.tiff",
          "B12.tiff"
         ],
         "xaxis": "x16",
         "y": [
          18.54913452587796,
          24.989322843235914,
          9.035475094370563,
          9.679945262718741,
          8.917689446688614,
          5.585337440634549,
          1.4992440499325603,
          0.2570072524460443,
          4.699005221532998,
          0.12439492342144653,
          6.079578424194982,
          6.8169990552919675
         ],
         "yaxis": "y16"
        },
        {
         "showlegend": false,
         "type": "bar",
         "x": [
          "B01.tiff",
          "B02.tiff",
          "B03.tiff",
          "B04.tiff",
          "B05.tiff",
          "B06.tiff",
          "B07.tiff",
          "B08.tiff",
          "B8A.tiff",
          "B09.tiff",
          "B11.tiff",
          "B12.tiff"
         ],
         "xaxis": "x17",
         "y": [
          1.3052061301668296,
          18.43300723013964,
          54.130109414318476,
          20.9299878952958,
          43.83032505068905,
          26.323078151785296,
          66.63522519055776,
          50.3297700147498,
          60.288514467179056,
          46.57128682759777,
          7.084531915983873,
          27.078803023933553
         ],
         "yaxis": "y17"
        },
        {
         "showlegend": false,
         "type": "bar",
         "x": [
          "B01.tiff",
          "B02.tiff",
          "B03.tiff",
          "B04.tiff",
          "B05.tiff",
          "B06.tiff",
          "B07.tiff",
          "B08.tiff",
          "B8A.tiff",
          "B09.tiff",
          "B11.tiff",
          "B12.tiff"
         ],
         "xaxis": "x18",
         "y": [
          253.18699528020784,
          5.606099274105299,
          168.86593662274075,
          82.39855741027723,
          15.741898323477235,
          102.54652482453436,
          59.6992719040881,
          8.052099320261487,
          9.10090253662605,
          10.911779457414458,
          19.995000101063006,
          2.8509825892828773
         ],
         "yaxis": "y18"
        },
        {
         "showlegend": false,
         "type": "bar",
         "x": [
          "B01.tiff",
          "B02.tiff",
          "B03.tiff",
          "B04.tiff",
          "B05.tiff",
          "B06.tiff",
          "B07.tiff",
          "B08.tiff",
          "B8A.tiff",
          "B09.tiff",
          "B11.tiff",
          "B12.tiff"
         ],
         "xaxis": "x19",
         "y": [
          31.281193745188418,
          0.10499433721073322,
          7.813995097733514,
          11.253355578742424,
          1.6570174023960924,
          15.537756903419611,
          9.94859012200444,
          5.855122448323482,
          11.034906765982894,
          30.400158285305896,
          92.25969907297394,
          82.24934642143958
         ],
         "yaxis": "y19"
        },
        {
         "showlegend": false,
         "type": "bar",
         "x": [
          "B01.tiff",
          "B02.tiff",
          "B03.tiff",
          "B04.tiff",
          "B05.tiff",
          "B06.tiff",
          "B07.tiff",
          "B08.tiff",
          "B8A.tiff",
          "B09.tiff",
          "B11.tiff",
          "B12.tiff"
         ],
         "xaxis": "x20",
         "y": [
          83.03026180411037,
          41.24035513298796,
          113.49383369803333,
          85.94545462550151,
          141.48776041968662,
          3.8489422488850025,
          23.346569250026107,
          4.313702023455486,
          28.788205355446838,
          4.361001473281654,
          40.491478299610016,
          48.32115812640165
         ],
         "yaxis": "y20"
        },
        {
         "showlegend": false,
         "type": "bar",
         "x": [
          "B01.tiff",
          "B02.tiff",
          "B03.tiff",
          "B04.tiff",
          "B05.tiff",
          "B06.tiff",
          "B07.tiff",
          "B08.tiff",
          "B8A.tiff",
          "B09.tiff",
          "B11.tiff",
          "B12.tiff"
         ],
         "xaxis": "x21",
         "y": [
          16.87645908902696,
          1.2741387674087976,
          15.332950696990993,
          11.573960131279602,
          33.41027809904108,
          0.1272385854666698,
          2.6589364452505273,
          4.829472910675227,
          6.239479833041346,
          16.914080551301392,
          0.12000663751321332,
          1.3347695892763989
         ],
         "yaxis": "y21"
        },
        {
         "showlegend": false,
         "type": "bar",
         "x": [
          "B01.tiff",
          "B02.tiff",
          "B03.tiff",
          "B04.tiff",
          "B05.tiff",
          "B06.tiff",
          "B07.tiff",
          "B08.tiff",
          "B8A.tiff",
          "B09.tiff",
          "B11.tiff",
          "B12.tiff"
         ],
         "xaxis": "x22",
         "y": [
          32.46604437607904,
          48.05825051171166,
          20.101548677447504,
          21.878151857585834,
          37.088146748929525,
          4.896866803931767,
          7.624715766259426,
          0.5332921166162734,
          10.563483290732528,
          3.800657500754589,
          20.354239333688696,
          36.969042077232686
         ],
         "yaxis": "y22"
        },
        {
         "showlegend": false,
         "type": "bar",
         "x": [
          "B01.tiff",
          "B02.tiff",
          "B03.tiff",
          "B04.tiff",
          "B05.tiff",
          "B06.tiff",
          "B07.tiff",
          "B08.tiff",
          "B8A.tiff",
          "B09.tiff",
          "B11.tiff",
          "B12.tiff"
         ],
         "xaxis": "x23",
         "y": [
          65.64285771528765,
          128.34229741821483,
          228.56944969544833,
          43.797472421123885,
          121.88171162364196,
          0.698031760205446,
          1.2747336517205883,
          2.8826671388060285,
          1.2881565866413986,
          0.09168781695393666,
          60.11080032633167,
          26.44206749830586
         ],
         "yaxis": "y23"
        },
        {
         "showlegend": false,
         "type": "bar",
         "x": [
          "B01.tiff",
          "B02.tiff",
          "B03.tiff",
          "B04.tiff",
          "B05.tiff",
          "B06.tiff",
          "B07.tiff",
          "B08.tiff",
          "B8A.tiff",
          "B09.tiff",
          "B11.tiff",
          "B12.tiff"
         ],
         "xaxis": "x24",
         "y": [
          12.539889140495406,
          4.376829341137327,
          10.563869206343302,
          7.510513657156454,
          7.812314080107946,
          0.1867269449980946,
          0.1147556170680597,
          0.6464305400958785,
          0.08400073404240316,
          0.4029529550942397,
          2.4627697579071186,
          6.364778250091526
         ],
         "yaxis": "y24"
        }
       ],
       "layout": {
        "annotations": [
         {
          "font": {
           "size": 16
          },
          "showarrow": false,
          "text": "N - select_k_best",
          "x": 0.225,
          "xanchor": "center",
          "xref": "paper",
          "y": 1,
          "yanchor": "bottom",
          "yref": "paper"
         },
         {
          "font": {
           "size": 16
          },
          "showarrow": false,
          "text": "N - linear_regression",
          "x": 0.775,
          "xanchor": "center",
          "xref": "paper",
          "y": 1,
          "yanchor": "bottom",
          "yref": "paper"
         },
         {
          "font": {
           "size": 16
          },
          "showarrow": false,
          "text": "P - select_k_best",
          "x": 0.225,
          "xanchor": "center",
          "xref": "paper",
          "y": 0.9131944444444444,
          "yanchor": "bottom",
          "yref": "paper"
         },
         {
          "font": {
           "size": 16
          },
          "showarrow": false,
          "text": "P - linear_regression",
          "x": 0.775,
          "xanchor": "center",
          "xref": "paper",
          "y": 0.9131944444444444,
          "yanchor": "bottom",
          "yref": "paper"
         },
         {
          "font": {
           "size": 16
          },
          "showarrow": false,
          "text": "K - select_k_best",
          "x": 0.225,
          "xanchor": "center",
          "xref": "paper",
          "y": 0.8263888888888888,
          "yanchor": "bottom",
          "yref": "paper"
         },
         {
          "font": {
           "size": 16
          },
          "showarrow": false,
          "text": "K - linear_regression",
          "x": 0.775,
          "xanchor": "center",
          "xref": "paper",
          "y": 0.8263888888888888,
          "yanchor": "bottom",
          "yref": "paper"
         },
         {
          "font": {
           "size": 16
          },
          "showarrow": false,
          "text": "Ca - select_k_best",
          "x": 0.225,
          "xanchor": "center",
          "xref": "paper",
          "y": 0.7395833333333333,
          "yanchor": "bottom",
          "yref": "paper"
         },
         {
          "font": {
           "size": 16
          },
          "showarrow": false,
          "text": "Ca - linear_regression",
          "x": 0.775,
          "xanchor": "center",
          "xref": "paper",
          "y": 0.7395833333333333,
          "yanchor": "bottom",
          "yref": "paper"
         },
         {
          "font": {
           "size": 16
          },
          "showarrow": false,
          "text": "Mg - select_k_best",
          "x": 0.225,
          "xanchor": "center",
          "xref": "paper",
          "y": 0.6527777777777777,
          "yanchor": "bottom",
          "yref": "paper"
         },
         {
          "font": {
           "size": 16
          },
          "showarrow": false,
          "text": "Mg - linear_regression",
          "x": 0.775,
          "xanchor": "center",
          "xref": "paper",
          "y": 0.6527777777777777,
          "yanchor": "bottom",
          "yref": "paper"
         },
         {
          "font": {
           "size": 16
          },
          "showarrow": false,
          "text": "S - select_k_best",
          "x": 0.225,
          "xanchor": "center",
          "xref": "paper",
          "y": 0.5659722222222223,
          "yanchor": "bottom",
          "yref": "paper"
         },
         {
          "font": {
           "size": 16
          },
          "showarrow": false,
          "text": "S - linear_regression",
          "x": 0.775,
          "xanchor": "center",
          "xref": "paper",
          "y": 0.5659722222222223,
          "yanchor": "bottom",
          "yref": "paper"
         },
         {
          "font": {
           "size": 16
          },
          "showarrow": false,
          "text": "B - select_k_best",
          "x": 0.225,
          "xanchor": "center",
          "xref": "paper",
          "y": 0.4791666666666667,
          "yanchor": "bottom",
          "yref": "paper"
         },
         {
          "font": {
           "size": 16
          },
          "showarrow": false,
          "text": "B - linear_regression",
          "x": 0.775,
          "xanchor": "center",
          "xref": "paper",
          "y": 0.4791666666666667,
          "yanchor": "bottom",
          "yref": "paper"
         },
         {
          "font": {
           "size": 16
          },
          "showarrow": false,
          "text": "Cu - select_k_best",
          "x": 0.225,
          "xanchor": "center",
          "xref": "paper",
          "y": 0.3923611111111111,
          "yanchor": "bottom",
          "yref": "paper"
         },
         {
          "font": {
           "size": 16
          },
          "showarrow": false,
          "text": "Cu - linear_regression",
          "x": 0.775,
          "xanchor": "center",
          "xref": "paper",
          "y": 0.3923611111111111,
          "yanchor": "bottom",
          "yref": "paper"
         },
         {
          "font": {
           "size": 16
          },
          "showarrow": false,
          "text": "Mn - select_k_best",
          "x": 0.225,
          "xanchor": "center",
          "xref": "paper",
          "y": 0.3055555555555556,
          "yanchor": "bottom",
          "yref": "paper"
         },
         {
          "font": {
           "size": 16
          },
          "showarrow": false,
          "text": "Mn - linear_regression",
          "x": 0.775,
          "xanchor": "center",
          "xref": "paper",
          "y": 0.3055555555555556,
          "yanchor": "bottom",
          "yref": "paper"
         },
         {
          "font": {
           "size": 16
          },
          "showarrow": false,
          "text": "Zn - select_k_best",
          "x": 0.225,
          "xanchor": "center",
          "xref": "paper",
          "y": 0.21875,
          "yanchor": "bottom",
          "yref": "paper"
         },
         {
          "font": {
           "size": 16
          },
          "showarrow": false,
          "text": "Zn - linear_regression",
          "x": 0.775,
          "xanchor": "center",
          "xref": "paper",
          "y": 0.21875,
          "yanchor": "bottom",
          "yref": "paper"
         },
         {
          "font": {
           "size": 16
          },
          "showarrow": false,
          "text": "Mo - select_k_best",
          "x": 0.225,
          "xanchor": "center",
          "xref": "paper",
          "y": 0.13194444444444445,
          "yanchor": "bottom",
          "yref": "paper"
         },
         {
          "font": {
           "size": 16
          },
          "showarrow": false,
          "text": "Mo - linear_regression",
          "x": 0.775,
          "xanchor": "center",
          "xref": "paper",
          "y": 0.13194444444444445,
          "yanchor": "bottom",
          "yref": "paper"
         },
         {
          "font": {
           "size": 16
          },
          "showarrow": false,
          "text": "Ni - select_k_best",
          "x": 0.225,
          "xanchor": "center",
          "xref": "paper",
          "y": 0.045138888888888895,
          "yanchor": "bottom",
          "yref": "paper"
         },
         {
          "font": {
           "size": 16
          },
          "showarrow": false,
          "text": "Ni - linear_regression",
          "x": 0.775,
          "xanchor": "center",
          "xref": "paper",
          "y": 0.045138888888888895,
          "yanchor": "bottom",
          "yref": "paper"
         }
        ],
        "height": 4800,
        "template": {
         "data": {
          "bar": [
           {
            "error_x": {
             "color": "#2a3f5f"
            },
            "error_y": {
             "color": "#2a3f5f"
            },
            "marker": {
             "line": {
              "color": "#E5ECF6",
              "width": 0.5
             },
             "pattern": {
              "fillmode": "overlay",
              "size": 10,
              "solidity": 0.2
             }
            },
            "type": "bar"
           }
          ],
          "barpolar": [
           {
            "marker": {
             "line": {
              "color": "#E5ECF6",
              "width": 0.5
             },
             "pattern": {
              "fillmode": "overlay",
              "size": 10,
              "solidity": 0.2
             }
            },
            "type": "barpolar"
           }
          ],
          "carpet": [
           {
            "aaxis": {
             "endlinecolor": "#2a3f5f",
             "gridcolor": "white",
             "linecolor": "white",
             "minorgridcolor": "white",
             "startlinecolor": "#2a3f5f"
            },
            "baxis": {
             "endlinecolor": "#2a3f5f",
             "gridcolor": "white",
             "linecolor": "white",
             "minorgridcolor": "white",
             "startlinecolor": "#2a3f5f"
            },
            "type": "carpet"
           }
          ],
          "choropleth": [
           {
            "colorbar": {
             "outlinewidth": 0,
             "ticks": ""
            },
            "type": "choropleth"
           }
          ],
          "contour": [
           {
            "colorbar": {
             "outlinewidth": 0,
             "ticks": ""
            },
            "colorscale": [
             [
              0,
              "#0d0887"
             ],
             [
              0.1111111111111111,
              "#46039f"
             ],
             [
              0.2222222222222222,
              "#7201a8"
             ],
             [
              0.3333333333333333,
              "#9c179e"
             ],
             [
              0.4444444444444444,
              "#bd3786"
             ],
             [
              0.5555555555555556,
              "#d8576b"
             ],
             [
              0.6666666666666666,
              "#ed7953"
             ],
             [
              0.7777777777777778,
              "#fb9f3a"
             ],
             [
              0.8888888888888888,
              "#fdca26"
             ],
             [
              1,
              "#f0f921"
             ]
            ],
            "type": "contour"
           }
          ],
          "contourcarpet": [
           {
            "colorbar": {
             "outlinewidth": 0,
             "ticks": ""
            },
            "type": "contourcarpet"
           }
          ],
          "heatmap": [
           {
            "colorbar": {
             "outlinewidth": 0,
             "ticks": ""
            },
            "colorscale": [
             [
              0,
              "#0d0887"
             ],
             [
              0.1111111111111111,
              "#46039f"
             ],
             [
              0.2222222222222222,
              "#7201a8"
             ],
             [
              0.3333333333333333,
              "#9c179e"
             ],
             [
              0.4444444444444444,
              "#bd3786"
             ],
             [
              0.5555555555555556,
              "#d8576b"
             ],
             [
              0.6666666666666666,
              "#ed7953"
             ],
             [
              0.7777777777777778,
              "#fb9f3a"
             ],
             [
              0.8888888888888888,
              "#fdca26"
             ],
             [
              1,
              "#f0f921"
             ]
            ],
            "type": "heatmap"
           }
          ],
          "heatmapgl": [
           {
            "colorbar": {
             "outlinewidth": 0,
             "ticks": ""
            },
            "colorscale": [
             [
              0,
              "#0d0887"
             ],
             [
              0.1111111111111111,
              "#46039f"
             ],
             [
              0.2222222222222222,
              "#7201a8"
             ],
             [
              0.3333333333333333,
              "#9c179e"
             ],
             [
              0.4444444444444444,
              "#bd3786"
             ],
             [
              0.5555555555555556,
              "#d8576b"
             ],
             [
              0.6666666666666666,
              "#ed7953"
             ],
             [
              0.7777777777777778,
              "#fb9f3a"
             ],
             [
              0.8888888888888888,
              "#fdca26"
             ],
             [
              1,
              "#f0f921"
             ]
            ],
            "type": "heatmapgl"
           }
          ],
          "histogram": [
           {
            "marker": {
             "pattern": {
              "fillmode": "overlay",
              "size": 10,
              "solidity": 0.2
             }
            },
            "type": "histogram"
           }
          ],
          "histogram2d": [
           {
            "colorbar": {
             "outlinewidth": 0,
             "ticks": ""
            },
            "colorscale": [
             [
              0,
              "#0d0887"
             ],
             [
              0.1111111111111111,
              "#46039f"
             ],
             [
              0.2222222222222222,
              "#7201a8"
             ],
             [
              0.3333333333333333,
              "#9c179e"
             ],
             [
              0.4444444444444444,
              "#bd3786"
             ],
             [
              0.5555555555555556,
              "#d8576b"
             ],
             [
              0.6666666666666666,
              "#ed7953"
             ],
             [
              0.7777777777777778,
              "#fb9f3a"
             ],
             [
              0.8888888888888888,
              "#fdca26"
             ],
             [
              1,
              "#f0f921"
             ]
            ],
            "type": "histogram2d"
           }
          ],
          "histogram2dcontour": [
           {
            "colorbar": {
             "outlinewidth": 0,
             "ticks": ""
            },
            "colorscale": [
             [
              0,
              "#0d0887"
             ],
             [
              0.1111111111111111,
              "#46039f"
             ],
             [
              0.2222222222222222,
              "#7201a8"
             ],
             [
              0.3333333333333333,
              "#9c179e"
             ],
             [
              0.4444444444444444,
              "#bd3786"
             ],
             [
              0.5555555555555556,
              "#d8576b"
             ],
             [
              0.6666666666666666,
              "#ed7953"
             ],
             [
              0.7777777777777778,
              "#fb9f3a"
             ],
             [
              0.8888888888888888,
              "#fdca26"
             ],
             [
              1,
              "#f0f921"
             ]
            ],
            "type": "histogram2dcontour"
           }
          ],
          "mesh3d": [
           {
            "colorbar": {
             "outlinewidth": 0,
             "ticks": ""
            },
            "type": "mesh3d"
           }
          ],
          "parcoords": [
           {
            "line": {
             "colorbar": {
              "outlinewidth": 0,
              "ticks": ""
             }
            },
            "type": "parcoords"
           }
          ],
          "pie": [
           {
            "automargin": true,
            "type": "pie"
           }
          ],
          "scatter": [
           {
            "fillpattern": {
             "fillmode": "overlay",
             "size": 10,
             "solidity": 0.2
            },
            "type": "scatter"
           }
          ],
          "scatter3d": [
           {
            "line": {
             "colorbar": {
              "outlinewidth": 0,
              "ticks": ""
             }
            },
            "marker": {
             "colorbar": {
              "outlinewidth": 0,
              "ticks": ""
             }
            },
            "type": "scatter3d"
           }
          ],
          "scattercarpet": [
           {
            "marker": {
             "colorbar": {
              "outlinewidth": 0,
              "ticks": ""
             }
            },
            "type": "scattercarpet"
           }
          ],
          "scattergeo": [
           {
            "marker": {
             "colorbar": {
              "outlinewidth": 0,
              "ticks": ""
             }
            },
            "type": "scattergeo"
           }
          ],
          "scattergl": [
           {
            "marker": {
             "colorbar": {
              "outlinewidth": 0,
              "ticks": ""
             }
            },
            "type": "scattergl"
           }
          ],
          "scattermapbox": [
           {
            "marker": {
             "colorbar": {
              "outlinewidth": 0,
              "ticks": ""
             }
            },
            "type": "scattermapbox"
           }
          ],
          "scatterpolar": [
           {
            "marker": {
             "colorbar": {
              "outlinewidth": 0,
              "ticks": ""
             }
            },
            "type": "scatterpolar"
           }
          ],
          "scatterpolargl": [
           {
            "marker": {
             "colorbar": {
              "outlinewidth": 0,
              "ticks": ""
             }
            },
            "type": "scatterpolargl"
           }
          ],
          "scatterternary": [
           {
            "marker": {
             "colorbar": {
              "outlinewidth": 0,
              "ticks": ""
             }
            },
            "type": "scatterternary"
           }
          ],
          "surface": [
           {
            "colorbar": {
             "outlinewidth": 0,
             "ticks": ""
            },
            "colorscale": [
             [
              0,
              "#0d0887"
             ],
             [
              0.1111111111111111,
              "#46039f"
             ],
             [
              0.2222222222222222,
              "#7201a8"
             ],
             [
              0.3333333333333333,
              "#9c179e"
             ],
             [
              0.4444444444444444,
              "#bd3786"
             ],
             [
              0.5555555555555556,
              "#d8576b"
             ],
             [
              0.6666666666666666,
              "#ed7953"
             ],
             [
              0.7777777777777778,
              "#fb9f3a"
             ],
             [
              0.8888888888888888,
              "#fdca26"
             ],
             [
              1,
              "#f0f921"
             ]
            ],
            "type": "surface"
           }
          ],
          "table": [
           {
            "cells": {
             "fill": {
              "color": "#EBF0F8"
             },
             "line": {
              "color": "white"
             }
            },
            "header": {
             "fill": {
              "color": "#C8D4E3"
             },
             "line": {
              "color": "white"
             }
            },
            "type": "table"
           }
          ]
         },
         "layout": {
          "annotationdefaults": {
           "arrowcolor": "#2a3f5f",
           "arrowhead": 0,
           "arrowwidth": 1
          },
          "autotypenumbers": "strict",
          "coloraxis": {
           "colorbar": {
            "outlinewidth": 0,
            "ticks": ""
           }
          },
          "colorscale": {
           "diverging": [
            [
             0,
             "#8e0152"
            ],
            [
             0.1,
             "#c51b7d"
            ],
            [
             0.2,
             "#de77ae"
            ],
            [
             0.3,
             "#f1b6da"
            ],
            [
             0.4,
             "#fde0ef"
            ],
            [
             0.5,
             "#f7f7f7"
            ],
            [
             0.6,
             "#e6f5d0"
            ],
            [
             0.7,
             "#b8e186"
            ],
            [
             0.8,
             "#7fbc41"
            ],
            [
             0.9,
             "#4d9221"
            ],
            [
             1,
             "#276419"
            ]
           ],
           "sequential": [
            [
             0,
             "#0d0887"
            ],
            [
             0.1111111111111111,
             "#46039f"
            ],
            [
             0.2222222222222222,
             "#7201a8"
            ],
            [
             0.3333333333333333,
             "#9c179e"
            ],
            [
             0.4444444444444444,
             "#bd3786"
            ],
            [
             0.5555555555555556,
             "#d8576b"
            ],
            [
             0.6666666666666666,
             "#ed7953"
            ],
            [
             0.7777777777777778,
             "#fb9f3a"
            ],
            [
             0.8888888888888888,
             "#fdca26"
            ],
            [
             1,
             "#f0f921"
            ]
           ],
           "sequentialminus": [
            [
             0,
             "#0d0887"
            ],
            [
             0.1111111111111111,
             "#46039f"
            ],
            [
             0.2222222222222222,
             "#7201a8"
            ],
            [
             0.3333333333333333,
             "#9c179e"
            ],
            [
             0.4444444444444444,
             "#bd3786"
            ],
            [
             0.5555555555555556,
             "#d8576b"
            ],
            [
             0.6666666666666666,
             "#ed7953"
            ],
            [
             0.7777777777777778,
             "#fb9f3a"
            ],
            [
             0.8888888888888888,
             "#fdca26"
            ],
            [
             1,
             "#f0f921"
            ]
           ]
          },
          "colorway": [
           "#636efa",
           "#EF553B",
           "#00cc96",
           "#ab63fa",
           "#FFA15A",
           "#19d3f3",
           "#FF6692",
           "#B6E880",
           "#FF97FF",
           "#FECB52"
          ],
          "font": {
           "color": "#2a3f5f"
          },
          "geo": {
           "bgcolor": "white",
           "lakecolor": "white",
           "landcolor": "#E5ECF6",
           "showlakes": true,
           "showland": true,
           "subunitcolor": "white"
          },
          "hoverlabel": {
           "align": "left"
          },
          "hovermode": "closest",
          "mapbox": {
           "style": "light"
          },
          "paper_bgcolor": "white",
          "plot_bgcolor": "#E5ECF6",
          "polar": {
           "angularaxis": {
            "gridcolor": "white",
            "linecolor": "white",
            "ticks": ""
           },
           "bgcolor": "#E5ECF6",
           "radialaxis": {
            "gridcolor": "white",
            "linecolor": "white",
            "ticks": ""
           }
          },
          "scene": {
           "xaxis": {
            "backgroundcolor": "#E5ECF6",
            "gridcolor": "white",
            "gridwidth": 2,
            "linecolor": "white",
            "showbackground": true,
            "ticks": "",
            "zerolinecolor": "white"
           },
           "yaxis": {
            "backgroundcolor": "#E5ECF6",
            "gridcolor": "white",
            "gridwidth": 2,
            "linecolor": "white",
            "showbackground": true,
            "ticks": "",
            "zerolinecolor": "white"
           },
           "zaxis": {
            "backgroundcolor": "#E5ECF6",
            "gridcolor": "white",
            "gridwidth": 2,
            "linecolor": "white",
            "showbackground": true,
            "ticks": "",
            "zerolinecolor": "white"
           }
          },
          "shapedefaults": {
           "line": {
            "color": "#2a3f5f"
           }
          },
          "ternary": {
           "aaxis": {
            "gridcolor": "white",
            "linecolor": "white",
            "ticks": ""
           },
           "baxis": {
            "gridcolor": "white",
            "linecolor": "white",
            "ticks": ""
           },
           "bgcolor": "#E5ECF6",
           "caxis": {
            "gridcolor": "white",
            "linecolor": "white",
            "ticks": ""
           }
          },
          "title": {
           "x": 0.05
          },
          "xaxis": {
           "automargin": true,
           "gridcolor": "white",
           "linecolor": "white",
           "ticks": "",
           "title": {
            "standoff": 15
           },
           "zerolinecolor": "white",
           "zerolinewidth": 2
          },
          "yaxis": {
           "automargin": true,
           "gridcolor": "white",
           "linecolor": "white",
           "ticks": "",
           "title": {
            "standoff": 15
           },
           "zerolinecolor": "white",
           "zerolinewidth": 2
          }
         }
        },
        "title": {
         "text": "Feature Importance - Map 2"
        },
        "xaxis": {
         "anchor": "y",
         "domain": [
          0,
          0.45
         ],
         "title": {
          "text": "N - select_k_best"
         }
        },
        "xaxis10": {
         "anchor": "y10",
         "domain": [
          0.55,
          1
         ],
         "title": {
          "text": ""
         }
        },
        "xaxis11": {
         "anchor": "y11",
         "domain": [
          0,
          0.45
         ],
         "title": {
          "text": "S - select_k_best"
         }
        },
        "xaxis12": {
         "anchor": "y12",
         "domain": [
          0.55,
          1
         ],
         "title": {
          "text": ""
         }
        },
        "xaxis13": {
         "anchor": "y13",
         "domain": [
          0,
          0.45
         ],
         "title": {
          "text": "B - select_k_best"
         }
        },
        "xaxis14": {
         "anchor": "y14",
         "domain": [
          0.55,
          1
         ],
         "title": {
          "text": ""
         }
        },
        "xaxis15": {
         "anchor": "y15",
         "domain": [
          0,
          0.45
         ],
         "title": {
          "text": "Cu - select_k_best"
         }
        },
        "xaxis16": {
         "anchor": "y16",
         "domain": [
          0.55,
          1
         ],
         "title": {
          "text": ""
         }
        },
        "xaxis17": {
         "anchor": "y17",
         "domain": [
          0,
          0.45
         ],
         "title": {
          "text": "Mn - select_k_best"
         }
        },
        "xaxis18": {
         "anchor": "y18",
         "domain": [
          0.55,
          1
         ],
         "title": {
          "text": ""
         }
        },
        "xaxis19": {
         "anchor": "y19",
         "domain": [
          0,
          0.45
         ],
         "title": {
          "text": "Zn - select_k_best"
         }
        },
        "xaxis2": {
         "anchor": "y2",
         "domain": [
          0.55,
          1
         ],
         "title": {
          "text": ""
         }
        },
        "xaxis20": {
         "anchor": "y20",
         "domain": [
          0.55,
          1
         ],
         "title": {
          "text": ""
         }
        },
        "xaxis21": {
         "anchor": "y21",
         "domain": [
          0,
          0.45
         ],
         "title": {
          "text": "Mo - select_k_best"
         }
        },
        "xaxis22": {
         "anchor": "y22",
         "domain": [
          0.55,
          1
         ],
         "title": {
          "text": ""
         }
        },
        "xaxis23": {
         "anchor": "y23",
         "domain": [
          0,
          0.45
         ],
         "title": {
          "text": "Ni - select_k_best"
         }
        },
        "xaxis24": {
         "anchor": "y24",
         "domain": [
          0.55,
          1
         ],
         "title": {
          "text": ""
         }
        },
        "xaxis3": {
         "anchor": "y3",
         "domain": [
          0,
          0.45
         ],
         "title": {
          "text": "P - select_k_best"
         }
        },
        "xaxis4": {
         "anchor": "y4",
         "domain": [
          0.55,
          1
         ],
         "title": {
          "text": ""
         }
        },
        "xaxis5": {
         "anchor": "y5",
         "domain": [
          0,
          0.45
         ],
         "title": {
          "text": "K - select_k_best"
         }
        },
        "xaxis6": {
         "anchor": "y6",
         "domain": [
          0.55,
          1
         ],
         "title": {
          "text": ""
         }
        },
        "xaxis7": {
         "anchor": "y7",
         "domain": [
          0,
          0.45
         ],
         "title": {
          "text": "Ca - select_k_best"
         }
        },
        "xaxis8": {
         "anchor": "y8",
         "domain": [
          0.55,
          1
         ],
         "title": {
          "text": ""
         }
        },
        "xaxis9": {
         "anchor": "y9",
         "domain": [
          0,
          0.45
         ],
         "title": {
          "text": "Mg - select_k_best"
         }
        },
        "yaxis": {
         "anchor": "x",
         "domain": [
          0.9548611111111112,
          1
         ]
        },
        "yaxis10": {
         "anchor": "x10",
         "domain": [
          0.6076388888888888,
          0.6527777777777777
         ]
        },
        "yaxis11": {
         "anchor": "x11",
         "domain": [
          0.5208333333333334,
          0.5659722222222223
         ]
        },
        "yaxis12": {
         "anchor": "x12",
         "domain": [
          0.5208333333333334,
          0.5659722222222223
         ]
        },
        "yaxis13": {
         "anchor": "x13",
         "domain": [
          0.4340277777777778,
          0.4791666666666667
         ]
        },
        "yaxis14": {
         "anchor": "x14",
         "domain": [
          0.4340277777777778,
          0.4791666666666667
         ]
        },
        "yaxis15": {
         "anchor": "x15",
         "domain": [
          0.3472222222222222,
          0.3923611111111111
         ]
        },
        "yaxis16": {
         "anchor": "x16",
         "domain": [
          0.3472222222222222,
          0.3923611111111111
         ]
        },
        "yaxis17": {
         "anchor": "x17",
         "domain": [
          0.2604166666666667,
          0.3055555555555556
         ]
        },
        "yaxis18": {
         "anchor": "x18",
         "domain": [
          0.2604166666666667,
          0.3055555555555556
         ]
        },
        "yaxis19": {
         "anchor": "x19",
         "domain": [
          0.1736111111111111,
          0.21875
         ]
        },
        "yaxis2": {
         "anchor": "x2",
         "domain": [
          0.9548611111111112,
          1
         ]
        },
        "yaxis20": {
         "anchor": "x20",
         "domain": [
          0.1736111111111111,
          0.21875
         ]
        },
        "yaxis21": {
         "anchor": "x21",
         "domain": [
          0.08680555555555555,
          0.13194444444444445
         ]
        },
        "yaxis22": {
         "anchor": "x22",
         "domain": [
          0.08680555555555555,
          0.13194444444444445
         ]
        },
        "yaxis23": {
         "anchor": "x23",
         "domain": [
          0,
          0.045138888888888895
         ]
        },
        "yaxis24": {
         "anchor": "x24",
         "domain": [
          0,
          0.045138888888888895
         ]
        },
        "yaxis3": {
         "anchor": "x3",
         "domain": [
          0.8680555555555556,
          0.9131944444444444
         ]
        },
        "yaxis4": {
         "anchor": "x4",
         "domain": [
          0.8680555555555556,
          0.9131944444444444
         ]
        },
        "yaxis5": {
         "anchor": "x5",
         "domain": [
          0.78125,
          0.8263888888888888
         ]
        },
        "yaxis6": {
         "anchor": "x6",
         "domain": [
          0.78125,
          0.8263888888888888
         ]
        },
        "yaxis7": {
         "anchor": "x7",
         "domain": [
          0.6944444444444444,
          0.7395833333333333
         ]
        },
        "yaxis8": {
         "anchor": "x8",
         "domain": [
          0.6944444444444444,
          0.7395833333333333
         ]
        },
        "yaxis9": {
         "anchor": "x9",
         "domain": [
          0.6076388888888888,
          0.6527777777777777
         ]
        }
       }
      }
     },
     "metadata": {},
     "output_type": "display_data"
    }
   ],
   "source": [
    "map_name = 'map2'\n",
    "\n",
    "filepath = f'data/{map_name}/interpolation/universal_interpolated_df.csv'\n",
    "target_columns = ['N', 'P', 'K', 'Ca', 'Mg', 'S', 'B', 'Cu', 'Mn', 'Zn', 'Mo', 'Ni']\n",
    "\n",
    "map2 = pd.read_csv(filepath)\n",
    "\n",
    "map2 = drop_lat_lon(map2)\n",
    "bands = get_bands(map2, '.tiff')\n",
    "nutrients = get_nutrients(map2, bands)\n",
    "nutrients = nutrients[target_columns]\n",
    "\n",
    "map2_feature_importance_df = process_multiple_targets(bands, nutrients, methods=['select_k_best', 'linear_regression'], k=10)\n",
    "feature_importance_plot(map2_feature_importance_df, title=\"Feature Importance - Map 2\")\n"
   ]
  },
  {
   "cell_type": "code",
   "execution_count": null,
   "metadata": {},
   "outputs": [],
   "source": []
  }
 ],
 "metadata": {
  "kernelspec": {
   "display_name": "Python 3",
   "language": "python",
   "name": "python3"
  },
  "language_info": {
   "codemirror_mode": {
    "name": "ipython",
    "version": 3
   },
   "file_extension": ".py",
   "mimetype": "text/x-python",
   "name": "python",
   "nbconvert_exporter": "python",
   "pygments_lexer": "ipython3",
   "version": "3.11.5"
  }
 },
 "nbformat": 4,
 "nbformat_minor": 2
}
